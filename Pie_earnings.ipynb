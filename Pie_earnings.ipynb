{
  "nbformat": 4,
  "nbformat_minor": 0,
  "metadata": {
    "colab": {
      "provenance": [],
      "authorship_tag": "ABX9TyOEzeReKXJbsRz0Xs/y0ATz",
      "include_colab_link": true
    },
    "kernelspec": {
      "name": "python3",
      "display_name": "Python 3"
    },
    "language_info": {
      "name": "python"
    }
  },
  "cells": [
    {
      "cell_type": "markdown",
      "metadata": {
        "id": "view-in-github",
        "colab_type": "text"
      },
      "source": [
        "<a href=\"https://colab.research.google.com/github/LuisaPolicarpo/Project5/blob/main/Pie_earnings.ipynb\" target=\"_parent\"><img src=\"https://colab.research.google.com/assets/colab-badge.svg\" alt=\"Open In Colab\"/></a>"
      ]
    },
    {
      "cell_type": "code",
      "execution_count": 1,
      "metadata": {
        "colab": {
          "base_uri": "https://localhost:8080/"
        },
        "id": "30dX5zKGvT3r",
        "outputId": "90d0baf3-465a-4ba2-9600-751c60f2b6c8"
      },
      "outputs": [
        {
          "output_type": "stream",
          "name": "stdout",
          "text": [
            "Looking in indexes: https://pypi.org/simple, https://us-python.pkg.dev/colab-wheels/public/simple/\n",
            "Collecting jupyter-dash\n",
            "  Downloading jupyter_dash-0.4.2-py3-none-any.whl (23 kB)\n",
            "Requirement already satisfied: ipython in /usr/local/lib/python3.8/dist-packages (from jupyter-dash) (7.9.0)\n",
            "Collecting ansi2html\n",
            "  Downloading ansi2html-1.8.0-py3-none-any.whl (16 kB)\n",
            "Collecting dash\n",
            "  Downloading dash-2.7.1-py3-none-any.whl (9.9 MB)\n",
            "\u001b[2K     \u001b[90m━━━━━━━━━━━━━━━━━━━━━━━━━━━━━━━━━━━━━━━━\u001b[0m \u001b[32m9.9/9.9 MB\u001b[0m \u001b[31m41.1 MB/s\u001b[0m eta \u001b[36m0:00:00\u001b[0m\n",
            "\u001b[?25hRequirement already satisfied: ipykernel in /usr/local/lib/python3.8/dist-packages (from jupyter-dash) (5.3.4)\n",
            "Requirement already satisfied: flask in /usr/local/lib/python3.8/dist-packages (from jupyter-dash) (1.1.4)\n",
            "Requirement already satisfied: requests in /usr/local/lib/python3.8/dist-packages (from jupyter-dash) (2.25.1)\n",
            "Collecting nest-asyncio\n",
            "  Downloading nest_asyncio-1.5.6-py3-none-any.whl (5.2 kB)\n",
            "Collecting retrying\n",
            "  Downloading retrying-1.3.4-py3-none-any.whl (11 kB)\n",
            "Collecting dash-html-components==2.0.0\n",
            "  Downloading dash_html_components-2.0.0-py3-none-any.whl (4.1 kB)\n",
            "Requirement already satisfied: plotly>=5.0.0 in /usr/local/lib/python3.8/dist-packages (from dash->jupyter-dash) (5.5.0)\n",
            "Collecting dash-table==5.0.0\n",
            "  Downloading dash_table-5.0.0-py3-none-any.whl (3.9 kB)\n",
            "Collecting dash-core-components==2.0.0\n",
            "  Downloading dash_core_components-2.0.0-py3-none-any.whl (3.8 kB)\n",
            "Requirement already satisfied: click<8.0,>=5.1 in /usr/local/lib/python3.8/dist-packages (from flask->jupyter-dash) (7.1.2)\n",
            "Requirement already satisfied: Jinja2<3.0,>=2.10.1 in /usr/local/lib/python3.8/dist-packages (from flask->jupyter-dash) (2.11.3)\n",
            "Requirement already satisfied: itsdangerous<2.0,>=0.24 in /usr/local/lib/python3.8/dist-packages (from flask->jupyter-dash) (1.1.0)\n",
            "Requirement already satisfied: Werkzeug<2.0,>=0.15 in /usr/local/lib/python3.8/dist-packages (from flask->jupyter-dash) (1.0.1)\n",
            "Requirement already satisfied: traitlets>=4.1.0 in /usr/local/lib/python3.8/dist-packages (from ipykernel->jupyter-dash) (5.7.1)\n",
            "Requirement already satisfied: tornado>=4.2 in /usr/local/lib/python3.8/dist-packages (from ipykernel->jupyter-dash) (6.0.4)\n",
            "Requirement already satisfied: jupyter-client in /usr/local/lib/python3.8/dist-packages (from ipykernel->jupyter-dash) (6.1.12)\n",
            "Requirement already satisfied: setuptools>=18.5 in /usr/local/lib/python3.8/dist-packages (from ipython->jupyter-dash) (57.4.0)\n",
            "Collecting jedi>=0.10\n",
            "  Downloading jedi-0.18.2-py2.py3-none-any.whl (1.6 MB)\n",
            "\u001b[2K     \u001b[90m━━━━━━━━━━━━━━━━━━━━━━━━━━━━━━━━━━━━━━━━\u001b[0m \u001b[32m1.6/1.6 MB\u001b[0m \u001b[31m8.4 MB/s\u001b[0m eta \u001b[36m0:00:00\u001b[0m\n",
            "\u001b[?25hRequirement already satisfied: pexpect in /usr/local/lib/python3.8/dist-packages (from ipython->jupyter-dash) (4.8.0)\n",
            "Requirement already satisfied: pygments in /usr/local/lib/python3.8/dist-packages (from ipython->jupyter-dash) (2.6.1)\n",
            "Requirement already satisfied: backcall in /usr/local/lib/python3.8/dist-packages (from ipython->jupyter-dash) (0.2.0)\n",
            "Requirement already satisfied: decorator in /usr/local/lib/python3.8/dist-packages (from ipython->jupyter-dash) (4.4.2)\n",
            "Requirement already satisfied: pickleshare in /usr/local/lib/python3.8/dist-packages (from ipython->jupyter-dash) (0.7.5)\n",
            "Requirement already satisfied: prompt-toolkit<2.1.0,>=2.0.0 in /usr/local/lib/python3.8/dist-packages (from ipython->jupyter-dash) (2.0.10)\n",
            "Requirement already satisfied: idna<3,>=2.5 in /usr/local/lib/python3.8/dist-packages (from requests->jupyter-dash) (2.10)\n",
            "Requirement already satisfied: chardet<5,>=3.0.2 in /usr/local/lib/python3.8/dist-packages (from requests->jupyter-dash) (4.0.0)\n",
            "Requirement already satisfied: urllib3<1.27,>=1.21.1 in /usr/local/lib/python3.8/dist-packages (from requests->jupyter-dash) (1.24.3)\n",
            "Requirement already satisfied: certifi>=2017.4.17 in /usr/local/lib/python3.8/dist-packages (from requests->jupyter-dash) (2022.12.7)\n",
            "Requirement already satisfied: six>=1.7.0 in /usr/local/lib/python3.8/dist-packages (from retrying->jupyter-dash) (1.15.0)\n",
            "Requirement already satisfied: parso<0.9.0,>=0.8.0 in /usr/local/lib/python3.8/dist-packages (from jedi>=0.10->ipython->jupyter-dash) (0.8.3)\n",
            "Requirement already satisfied: MarkupSafe>=0.23 in /usr/local/lib/python3.8/dist-packages (from Jinja2<3.0,>=2.10.1->flask->jupyter-dash) (2.0.1)\n",
            "Requirement already satisfied: tenacity>=6.2.0 in /usr/local/lib/python3.8/dist-packages (from plotly>=5.0.0->dash->jupyter-dash) (8.1.0)\n",
            "Requirement already satisfied: wcwidth in /usr/local/lib/python3.8/dist-packages (from prompt-toolkit<2.1.0,>=2.0.0->ipython->jupyter-dash) (0.2.5)\n",
            "Requirement already satisfied: pyzmq>=13 in /usr/local/lib/python3.8/dist-packages (from jupyter-client->ipykernel->jupyter-dash) (23.2.1)\n",
            "Requirement already satisfied: python-dateutil>=2.1 in /usr/local/lib/python3.8/dist-packages (from jupyter-client->ipykernel->jupyter-dash) (2.8.2)\n",
            "Requirement already satisfied: jupyter-core>=4.6.0 in /usr/local/lib/python3.8/dist-packages (from jupyter-client->ipykernel->jupyter-dash) (5.1.3)\n",
            "Requirement already satisfied: ptyprocess>=0.5 in /usr/local/lib/python3.8/dist-packages (from pexpect->ipython->jupyter-dash) (0.7.0)\n",
            "Requirement already satisfied: platformdirs>=2.5 in /usr/local/lib/python3.8/dist-packages (from jupyter-core>=4.6.0->jupyter-client->ipykernel->jupyter-dash) (2.6.2)\n",
            "Installing collected packages: dash-table, dash-html-components, dash-core-components, retrying, nest-asyncio, jedi, ansi2html, dash, jupyter-dash\n",
            "Successfully installed ansi2html-1.8.0 dash-2.7.1 dash-core-components-2.0.0 dash-html-components-2.0.0 dash-table-5.0.0 jedi-0.18.2 jupyter-dash-0.4.2 nest-asyncio-1.5.6 retrying-1.3.4\n"
          ]
        }
      ],
      "source": [
        "!pip install jupyter-dash"
      ]
    },
    {
      "cell_type": "code",
      "source": [
        "pip install dash-bootstrap-components"
      ],
      "metadata": {
        "colab": {
          "base_uri": "https://localhost:8080/"
        },
        "id": "BiJuKmfqvqEA",
        "outputId": "f320b822-b1d1-4588-bedf-ecf6b024ce53"
      },
      "execution_count": 2,
      "outputs": [
        {
          "output_type": "stream",
          "name": "stdout",
          "text": [
            "Looking in indexes: https://pypi.org/simple, https://us-python.pkg.dev/colab-wheels/public/simple/\n",
            "Collecting dash-bootstrap-components\n",
            "  Downloading dash_bootstrap_components-1.3.0-py3-none-any.whl (220 kB)\n",
            "\u001b[2K     \u001b[90m━━━━━━━━━━━━━━━━━━━━━━━━━━━━━━━━━━━━━━━\u001b[0m \u001b[32m220.0/220.0 KB\u001b[0m \u001b[31m5.5 MB/s\u001b[0m eta \u001b[36m0:00:00\u001b[0m\n",
            "\u001b[?25hRequirement already satisfied: dash>=2.0.0 in /usr/local/lib/python3.8/dist-packages (from dash-bootstrap-components) (2.7.1)\n",
            "Requirement already satisfied: dash-html-components==2.0.0 in /usr/local/lib/python3.8/dist-packages (from dash>=2.0.0->dash-bootstrap-components) (2.0.0)\n",
            "Requirement already satisfied: plotly>=5.0.0 in /usr/local/lib/python3.8/dist-packages (from dash>=2.0.0->dash-bootstrap-components) (5.5.0)\n",
            "Requirement already satisfied: dash-table==5.0.0 in /usr/local/lib/python3.8/dist-packages (from dash>=2.0.0->dash-bootstrap-components) (5.0.0)\n",
            "Requirement already satisfied: Flask>=1.0.4 in /usr/local/lib/python3.8/dist-packages (from dash>=2.0.0->dash-bootstrap-components) (1.1.4)\n",
            "Requirement already satisfied: dash-core-components==2.0.0 in /usr/local/lib/python3.8/dist-packages (from dash>=2.0.0->dash-bootstrap-components) (2.0.0)\n",
            "Requirement already satisfied: Werkzeug<2.0,>=0.15 in /usr/local/lib/python3.8/dist-packages (from Flask>=1.0.4->dash>=2.0.0->dash-bootstrap-components) (1.0.1)\n",
            "Requirement already satisfied: itsdangerous<2.0,>=0.24 in /usr/local/lib/python3.8/dist-packages (from Flask>=1.0.4->dash>=2.0.0->dash-bootstrap-components) (1.1.0)\n",
            "Requirement already satisfied: click<8.0,>=5.1 in /usr/local/lib/python3.8/dist-packages (from Flask>=1.0.4->dash>=2.0.0->dash-bootstrap-components) (7.1.2)\n",
            "Requirement already satisfied: Jinja2<3.0,>=2.10.1 in /usr/local/lib/python3.8/dist-packages (from Flask>=1.0.4->dash>=2.0.0->dash-bootstrap-components) (2.11.3)\n",
            "Requirement already satisfied: tenacity>=6.2.0 in /usr/local/lib/python3.8/dist-packages (from plotly>=5.0.0->dash>=2.0.0->dash-bootstrap-components) (8.1.0)\n",
            "Requirement already satisfied: six in /usr/local/lib/python3.8/dist-packages (from plotly>=5.0.0->dash>=2.0.0->dash-bootstrap-components) (1.15.0)\n",
            "Requirement already satisfied: MarkupSafe>=0.23 in /usr/local/lib/python3.8/dist-packages (from Jinja2<3.0,>=2.10.1->Flask>=1.0.4->dash>=2.0.0->dash-bootstrap-components) (2.0.1)\n",
            "Installing collected packages: dash-bootstrap-components\n",
            "Successfully installed dash-bootstrap-components-1.3.0\n"
          ]
        }
      ]
    },
    {
      "cell_type": "code",
      "source": [
        "import pandas as pd\n",
        "\n",
        "import dash\n",
        "import dash_core_components as dcc\n",
        "import dash_html_components as html\n",
        "from dash.dependencies import Input, Output\n",
        "import plotly.express as px\n",
        "from jupyter_dash import JupyterDash\n",
        "import dash_bootstrap_components as dbc\n"
      ],
      "metadata": {
        "colab": {
          "base_uri": "https://localhost:8080/",
          "height": 156
        },
        "id": "22ZuRVJivs19",
        "outputId": "ec1417c7-a436-477c-b465-1044b99553dc"
      },
      "execution_count": 3,
      "outputs": [
        {
          "output_type": "stream",
          "name": "stderr",
          "text": [
            "<ipython-input-3-91cdc4bf5c11>:4: UserWarning: \n",
            "The dash_core_components package is deprecated. Please replace\n",
            "`import dash_core_components as dcc` with `from dash import dcc`\n",
            "  import dash_core_components as dcc\n",
            "<ipython-input-3-91cdc4bf5c11>:5: UserWarning: \n",
            "The dash_html_components package is deprecated. Please replace\n",
            "`import dash_html_components as html` with `from dash import html`\n",
            "  import dash_html_components as html\n"
          ]
        }
      ]
    },
    {
      "cell_type": "code",
      "source": [
        "app = JupyterDash(__name__)\n",
        "df_22 = pd.read_csv('https://raw.githubusercontent.com/LuisaPolicarpo/Project5/main/ploty_earnings_FV.csv')\n",
        "\n",
        "def earnings_value(df = df_22):\n",
        "    return px.pie(df, values='Value', names='Type')\n",
        "\n",
        "\n",
        "\n",
        "app.layout = html.Div([\n",
        "    html.Div([\n",
        "        html.Label(['Earnings']),\n",
        "        dcc.Dropdown(\n",
        "            id='my_dropdown',\n",
        "            options=['2017', '2018', '2019', '2020', '2021', '2022'],\n",
        "            value='2017',\n",
        "            style={\"width\": \"50%\"}\n",
        "        ),\n",
        "    ]),\n",
        "\n",
        "    html.Div([\n",
        "        dcc.Graph(id='the_graph')\n",
        "    ]),\n",
        "\n",
        "])\n",
        "\n",
        "# #---------------------------------------------------------------\n",
        "@app.callback(\n",
        "    Output(component_id='the_graph', component_property='figure'),\n",
        "    Input(component_id='my_dropdown', component_property='value')\n",
        ")\n",
        "\n",
        "def update_graph(my_dropdown):\n",
        "  return update_graph(earnings_value)\n",
        "\n",
        "if __name__ == '__main__':\n",
        "    app.run_server(debug = True)"
      ],
      "metadata": {
        "colab": {
          "base_uri": "https://localhost:8080/",
          "height": 52
        },
        "id": "q1VuHb5yvzli",
        "outputId": "3fdbc74c-d9be-477b-b222-46aed385fd29"
      },
      "execution_count": 12,
      "outputs": [
        {
          "output_type": "stream",
          "name": "stdout",
          "text": [
            "Dash app running on:\n"
          ]
        },
        {
          "output_type": "display_data",
          "data": {
            "text/plain": [
              "<IPython.core.display.Javascript object>"
            ],
            "application/javascript": [
              "(async (port, path, text, element) => {\n",
              "    if (!google.colab.kernel.accessAllowed) {\n",
              "      return;\n",
              "    }\n",
              "    element.appendChild(document.createTextNode(''));\n",
              "    const url = await google.colab.kernel.proxyPort(port);\n",
              "    const anchor = document.createElement('a');\n",
              "    anchor.href = new URL(path, url).toString();\n",
              "    anchor.target = '_blank';\n",
              "    anchor.setAttribute('data-href', url + path);\n",
              "    anchor.textContent = text;\n",
              "    element.appendChild(anchor);\n",
              "  })(8050, \"/\", \"http://127.0.0.1:8050/\", window.element)"
            ]
          },
          "metadata": {}
        }
      ]
    },
    {
      "cell_type": "code",
      "source": [
        "px.pie(df_22, values='Value', names='Type')"
      ],
      "metadata": {
        "colab": {
          "base_uri": "https://localhost:8080/",
          "height": 542
        },
        "id": "hQw_oP2iweHj",
        "outputId": "f84d5df8-ae55-4f86-bc85-0de26b92bb47"
      },
      "execution_count": 9,
      "outputs": [
        {
          "output_type": "display_data",
          "data": {
            "text/html": [
              "<html>\n",
              "<head><meta charset=\"utf-8\" /></head>\n",
              "<body>\n",
              "    <div>            <script src=\"https://cdnjs.cloudflare.com/ajax/libs/mathjax/2.7.5/MathJax.js?config=TeX-AMS-MML_SVG\"></script><script type=\"text/javascript\">if (window.MathJax) {MathJax.Hub.Config({SVG: {font: \"STIX-Web\"}});}</script>                <script type=\"text/javascript\">window.PlotlyConfig = {MathJaxConfig: 'local'};</script>\n",
              "        <script src=\"https://cdn.plot.ly/plotly-2.8.3.min.js\"></script>                <div id=\"078de418-f1c8-4d14-9bd2-248e56ec4670\" class=\"plotly-graph-div\" style=\"height:525px; width:100%;\"></div>            <script type=\"text/javascript\">                                    window.PLOTLYENV=window.PLOTLYENV || {};                                    if (document.getElementById(\"078de418-f1c8-4d14-9bd2-248e56ec4670\")) {                    Plotly.newPlot(                        \"078de418-f1c8-4d14-9bd2-248e56ec4670\",                        [{\"domain\":{\"x\":[0.0,1.0],\"y\":[0.0,1.0]},\"hovertemplate\":\"Type=%{label}<br>Value=%{value}<extra></extra>\",\"labels\":[\"Hotelaria\",\"Alojamento local\",\"Turismo no espa\\u00e7o rural e de habita\\u00e7\\u00e3o\",\"Hotelaria\",\"Alojamento local\",\"Turismo no espa\\u00e7o rural e de habita\\u00e7\\u00e3o\",\"Hotelaria\",\"Alojamento local\",\"Turismo no espa\\u00e7o rural e de habita\\u00e7\\u00e3o\",\"Hotelaria\",\"Alojamento local\",\"Turismo no espa\\u00e7o rural e de habita\\u00e7\\u00e3o\",\"Hotelaria\",\"Alojamento local\",\"Turismo no espa\\u00e7o rural e de habita\\u00e7\\u00e3o\",\"Hotelaria\",\"Alojamento local\",\"Turismo no espa\\u00e7o rural e de habita\\u00e7\\u00e3o\",\"Hotelaria\",\"Alojamento local\",\"Turismo no espa\\u00e7o rural e de habita\\u00e7\\u00e3o\",\"Hotelaria\",\"Alojamento local\",\"Turismo no espa\\u00e7o rural e de habita\\u00e7\\u00e3o\",\"Hotelaria\",\"Alojamento local\",\"Turismo no espa\\u00e7o rural e de habita\\u00e7\\u00e3o\",\"Hotelaria\",\"Alojamento local\",\"Turismo no espa\\u00e7o rural e de habita\\u00e7\\u00e3o\",\"Hotelaria\",\"Alojamento local\",\"Turismo no espa\\u00e7o rural e de habita\\u00e7\\u00e3o\",\"Hotelaria\",\"Hotelaria\",\"Hotelaria\",\"Hotelaria\",\"Hotelaria\",\"Hotelaria\",\"Hotelaria\",\"Hotelaria\",\"Hotelaria\",\"Hotelaria\",\"Hotelaria\",\"Hotelaria\",\"Hotelaria\",\"Hotelaria\",\"Hotelaria\",\"Hotelaria\",\"Hotelaria\",\"Hotelaria\",\"Hotelaria\",\"Hotelaria\",\"Hotelaria\",\"Hotelaria\",\"Hotelaria\",\"Hotelaria\",\"Hotelaria\",\"Hotelaria\",\"Hotelaria\",\"Hotelaria\",\"Hotelaria\",\"Hotelaria\",\"Hotelaria\",\"Hotelaria\",\"Hotelaria\",\"Hotelaria\",\"Hotelaria\",\"Hotelaria\",\"Hotelaria\",\"Hotelaria\",\"Hotelaria\",\"Hotelaria\",\"Hotelaria\",\"Hotelaria\",\"Hotelaria\",\"Hotelaria\",\"Hotelaria\",\"Hotelaria\",\"Hotelaria\",\"Hotelaria\",\"Hotelaria\",\"Hotelaria\",\"Hotelaria\",\"Hotelaria\",\"Hotelaria\",\"Hotelaria\",\"Hotelaria\",\"Hotelaria\",\"Hotelaria\",\"Hotelaria\",\"Hotelaria\",\"Hotelaria\",\"Alojamento local\",\"Alojamento local\",\"Alojamento local\",\"Alojamento local\",\"Alojamento local\",\"Alojamento local\",\"Alojamento local\",\"Alojamento local\",\"Alojamento local\",\"Alojamento local\",\"Alojamento local\",\"Alojamento local\",\"Alojamento local\",\"Alojamento local\",\"Alojamento local\",\"Alojamento local\",\"Alojamento local\",\"Alojamento local\",\"Alojamento local\",\"Alojamento local\",\"Alojamento local\",\"Alojamento local\",\"Alojamento local\",\"Alojamento local\",\"Alojamento local\",\"Alojamento local\",\"Alojamento local\",\"Alojamento local\",\"Alojamento local\",\"Alojamento local\",\"Alojamento local\",\"Alojamento local\",\"Alojamento local\",\"Alojamento local\",\"Alojamento local\",\"Alojamento local\",\"Alojamento local\",\"Alojamento local\",\"Alojamento local\",\"Alojamento local\",\"Alojamento local\",\"Alojamento local\",\"Alojamento local\",\"Alojamento local\",\"Alojamento local\",\"Alojamento local\",\"Alojamento local\",\"Alojamento local\",\"Alojamento local\",\"Alojamento local\",\"Alojamento local\",\"Alojamento local\",\"Alojamento local\",\"Alojamento local\",\"Alojamento local\",\"Alojamento local\",\"Alojamento local\",\"Alojamento local\",\"Alojamento local\",\"Alojamento local\",\"Turismo no espa\\u00e7o rural e de habita\\u00e7\\u00e3o\",\"Turismo no espa\\u00e7o rural e de habita\\u00e7\\u00e3o\",\"Turismo no espa\\u00e7o rural e de habita\\u00e7\\u00e3o\",\"Turismo no espa\\u00e7o rural e de habita\\u00e7\\u00e3o\",\"Turismo no espa\\u00e7o rural e de habita\\u00e7\\u00e3o\",\"Turismo no espa\\u00e7o rural e de habita\\u00e7\\u00e3o\",\"Turismo no espa\\u00e7o rural e de habita\\u00e7\\u00e3o\",\"Turismo no espa\\u00e7o rural e de habita\\u00e7\\u00e3o\",\"Turismo no espa\\u00e7o rural e de habita\\u00e7\\u00e3o\",\"Turismo no espa\\u00e7o rural e de habita\\u00e7\\u00e3o\",\"Turismo no espa\\u00e7o rural e de habita\\u00e7\\u00e3o\",\"Turismo no espa\\u00e7o rural e de habita\\u00e7\\u00e3o\",\"Turismo no espa\\u00e7o rural e de habita\\u00e7\\u00e3o\",\"Turismo no espa\\u00e7o rural e de habita\\u00e7\\u00e3o\",\"Turismo no espa\\u00e7o rural e de habita\\u00e7\\u00e3o\",\"Turismo no espa\\u00e7o rural e de habita\\u00e7\\u00e3o\",\"Turismo no espa\\u00e7o rural e de habita\\u00e7\\u00e3o\",\"Turismo no espa\\u00e7o rural e de habita\\u00e7\\u00e3o\",\"Turismo no espa\\u00e7o rural e de habita\\u00e7\\u00e3o\",\"Turismo no espa\\u00e7o rural e de habita\\u00e7\\u00e3o\",\"Turismo no espa\\u00e7o rural e de habita\\u00e7\\u00e3o\",\"Turismo no espa\\u00e7o rural e de habita\\u00e7\\u00e3o\",\"Turismo no espa\\u00e7o rural e de habita\\u00e7\\u00e3o\",\"Turismo no espa\\u00e7o rural e de habita\\u00e7\\u00e3o\",\"Turismo no espa\\u00e7o rural e de habita\\u00e7\\u00e3o\",\"Turismo no espa\\u00e7o rural e de habita\\u00e7\\u00e3o\",\"Turismo no espa\\u00e7o rural e de habita\\u00e7\\u00e3o\",\"Turismo no espa\\u00e7o rural e de habita\\u00e7\\u00e3o\",\"Turismo no espa\\u00e7o rural e de habita\\u00e7\\u00e3o\",\"Turismo no espa\\u00e7o rural e de habita\\u00e7\\u00e3o\",\"Turismo no espa\\u00e7o rural e de habita\\u00e7\\u00e3o\",\"Turismo no espa\\u00e7o rural e de habita\\u00e7\\u00e3o\",\"Turismo no espa\\u00e7o rural e de habita\\u00e7\\u00e3o\",\"Turismo no espa\\u00e7o rural e de habita\\u00e7\\u00e3o\",\"Turismo no espa\\u00e7o rural e de habita\\u00e7\\u00e3o\",\"Turismo no espa\\u00e7o rural e de habita\\u00e7\\u00e3o\",\"Turismo no espa\\u00e7o rural e de habita\\u00e7\\u00e3o\",\"Turismo no espa\\u00e7o rural e de habita\\u00e7\\u00e3o\",\"Turismo no espa\\u00e7o rural e de habita\\u00e7\\u00e3o\",\"Turismo no espa\\u00e7o rural e de habita\\u00e7\\u00e3o\",\"Turismo no espa\\u00e7o rural e de habita\\u00e7\\u00e3o\",\"Turismo no espa\\u00e7o rural e de habita\\u00e7\\u00e3o\",\"Turismo no espa\\u00e7o rural e de habita\\u00e7\\u00e3o\",\"Turismo no espa\\u00e7o rural e de habita\\u00e7\\u00e3o\",\"Turismo no espa\\u00e7o rural e de habita\\u00e7\\u00e3o\",\"Turismo no espa\\u00e7o rural e de habita\\u00e7\\u00e3o\",\"Turismo no espa\\u00e7o rural e de habita\\u00e7\\u00e3o\",\"Turismo no espa\\u00e7o rural e de habita\\u00e7\\u00e3o\",\"Turismo no espa\\u00e7o rural e de habita\\u00e7\\u00e3o\",\"Turismo no espa\\u00e7o rural e de habita\\u00e7\\u00e3o\",\"Turismo no espa\\u00e7o rural e de habita\\u00e7\\u00e3o\",\"Turismo no espa\\u00e7o rural e de habita\\u00e7\\u00e3o\",\"Turismo no espa\\u00e7o rural e de habita\\u00e7\\u00e3o\",\"Turismo no espa\\u00e7o rural e de habita\\u00e7\\u00e3o\",\"Turismo no espa\\u00e7o rural e de habita\\u00e7\\u00e3o\",\"Turismo no espa\\u00e7o rural e de habita\\u00e7\\u00e3o\",\"Turismo no espa\\u00e7o rural e de habita\\u00e7\\u00e3o\",\"Turismo no espa\\u00e7o rural e de habita\\u00e7\\u00e3o\",\"Turismo no espa\\u00e7o rural e de habita\\u00e7\\u00e3o\",\"Turismo no espa\\u00e7o rural e de habita\\u00e7\\u00e3o\"],\"legendgroup\":\"\",\"name\":\"\",\"showlegend\":true,\"values\":[184012,23459,6734,319412,38360,12812,403906,47889,18694,539154,65413,32389,457225,54523,22849,357678,41567,16305,292345,34189,12298,248732,28734,11368,144051,18670,5694,93669,12627,4487,63808,8977,3287,132228,185160,295076,309314,444303,249503,180855,105956,37884,20995,14634,26989,45292,39181,105666,173731,273701,131215,40986,6960,3410,87898,174634,157454,181357,204789,348442,442038,554823,469098,413087,362624,296248,221262,154218,147486,167658,187030,330876,417982,522369,451291,375782,342261,273248,218176,148204,134908,155206,173792,317114,407097,494703,421925,343552,309368,263848,183515,133906,119518,13590,17907,26695,29753,43631,25185,17789,10274,5104,3401,2718,3727,4933,4769,10326,16374,27571,13690,5714,1782,865,8117,14675,13531,18567,19784,33093,44758,60231,49446,40376,35590,29655,21195,14802,14139,15396,16717,28364,36719,49634,40513,30769,28495,23028,18094,12867,12275,14069,14677,25277,31723,41280,33761,26502,22400,19442,13571,10369,9882,6645,7939,13929,18075,30838,19392,13570,8979,4030,1723,905,1577,3121,2481,7594,13517,23893,13894,6333,906,192,2437,5113,3727,5346,5451,9600,14740,23238,16085,12520,9886,9027,5787,3713,3319,4613,4652,8881,12814,20249,14500,10242,9197,7174,4949,3659,2968,4670,3913,8395,11902,19308,13140,9086,7713,7305,3765,2981,2533],\"type\":\"pie\"}],                        {\"template\":{\"data\":{\"bar\":[{\"error_x\":{\"color\":\"#2a3f5f\"},\"error_y\":{\"color\":\"#2a3f5f\"},\"marker\":{\"line\":{\"color\":\"#E5ECF6\",\"width\":0.5},\"pattern\":{\"fillmode\":\"overlay\",\"size\":10,\"solidity\":0.2}},\"type\":\"bar\"}],\"barpolar\":[{\"marker\":{\"line\":{\"color\":\"#E5ECF6\",\"width\":0.5},\"pattern\":{\"fillmode\":\"overlay\",\"size\":10,\"solidity\":0.2}},\"type\":\"barpolar\"}],\"carpet\":[{\"aaxis\":{\"endlinecolor\":\"#2a3f5f\",\"gridcolor\":\"white\",\"linecolor\":\"white\",\"minorgridcolor\":\"white\",\"startlinecolor\":\"#2a3f5f\"},\"baxis\":{\"endlinecolor\":\"#2a3f5f\",\"gridcolor\":\"white\",\"linecolor\":\"white\",\"minorgridcolor\":\"white\",\"startlinecolor\":\"#2a3f5f\"},\"type\":\"carpet\"}],\"choropleth\":[{\"colorbar\":{\"outlinewidth\":0,\"ticks\":\"\"},\"type\":\"choropleth\"}],\"contour\":[{\"colorbar\":{\"outlinewidth\":0,\"ticks\":\"\"},\"colorscale\":[[0.0,\"#0d0887\"],[0.1111111111111111,\"#46039f\"],[0.2222222222222222,\"#7201a8\"],[0.3333333333333333,\"#9c179e\"],[0.4444444444444444,\"#bd3786\"],[0.5555555555555556,\"#d8576b\"],[0.6666666666666666,\"#ed7953\"],[0.7777777777777778,\"#fb9f3a\"],[0.8888888888888888,\"#fdca26\"],[1.0,\"#f0f921\"]],\"type\":\"contour\"}],\"contourcarpet\":[{\"colorbar\":{\"outlinewidth\":0,\"ticks\":\"\"},\"type\":\"contourcarpet\"}],\"heatmap\":[{\"colorbar\":{\"outlinewidth\":0,\"ticks\":\"\"},\"colorscale\":[[0.0,\"#0d0887\"],[0.1111111111111111,\"#46039f\"],[0.2222222222222222,\"#7201a8\"],[0.3333333333333333,\"#9c179e\"],[0.4444444444444444,\"#bd3786\"],[0.5555555555555556,\"#d8576b\"],[0.6666666666666666,\"#ed7953\"],[0.7777777777777778,\"#fb9f3a\"],[0.8888888888888888,\"#fdca26\"],[1.0,\"#f0f921\"]],\"type\":\"heatmap\"}],\"heatmapgl\":[{\"colorbar\":{\"outlinewidth\":0,\"ticks\":\"\"},\"colorscale\":[[0.0,\"#0d0887\"],[0.1111111111111111,\"#46039f\"],[0.2222222222222222,\"#7201a8\"],[0.3333333333333333,\"#9c179e\"],[0.4444444444444444,\"#bd3786\"],[0.5555555555555556,\"#d8576b\"],[0.6666666666666666,\"#ed7953\"],[0.7777777777777778,\"#fb9f3a\"],[0.8888888888888888,\"#fdca26\"],[1.0,\"#f0f921\"]],\"type\":\"heatmapgl\"}],\"histogram\":[{\"marker\":{\"pattern\":{\"fillmode\":\"overlay\",\"size\":10,\"solidity\":0.2}},\"type\":\"histogram\"}],\"histogram2d\":[{\"colorbar\":{\"outlinewidth\":0,\"ticks\":\"\"},\"colorscale\":[[0.0,\"#0d0887\"],[0.1111111111111111,\"#46039f\"],[0.2222222222222222,\"#7201a8\"],[0.3333333333333333,\"#9c179e\"],[0.4444444444444444,\"#bd3786\"],[0.5555555555555556,\"#d8576b\"],[0.6666666666666666,\"#ed7953\"],[0.7777777777777778,\"#fb9f3a\"],[0.8888888888888888,\"#fdca26\"],[1.0,\"#f0f921\"]],\"type\":\"histogram2d\"}],\"histogram2dcontour\":[{\"colorbar\":{\"outlinewidth\":0,\"ticks\":\"\"},\"colorscale\":[[0.0,\"#0d0887\"],[0.1111111111111111,\"#46039f\"],[0.2222222222222222,\"#7201a8\"],[0.3333333333333333,\"#9c179e\"],[0.4444444444444444,\"#bd3786\"],[0.5555555555555556,\"#d8576b\"],[0.6666666666666666,\"#ed7953\"],[0.7777777777777778,\"#fb9f3a\"],[0.8888888888888888,\"#fdca26\"],[1.0,\"#f0f921\"]],\"type\":\"histogram2dcontour\"}],\"mesh3d\":[{\"colorbar\":{\"outlinewidth\":0,\"ticks\":\"\"},\"type\":\"mesh3d\"}],\"parcoords\":[{\"line\":{\"colorbar\":{\"outlinewidth\":0,\"ticks\":\"\"}},\"type\":\"parcoords\"}],\"pie\":[{\"automargin\":true,\"type\":\"pie\"}],\"scatter\":[{\"marker\":{\"colorbar\":{\"outlinewidth\":0,\"ticks\":\"\"}},\"type\":\"scatter\"}],\"scatter3d\":[{\"line\":{\"colorbar\":{\"outlinewidth\":0,\"ticks\":\"\"}},\"marker\":{\"colorbar\":{\"outlinewidth\":0,\"ticks\":\"\"}},\"type\":\"scatter3d\"}],\"scattercarpet\":[{\"marker\":{\"colorbar\":{\"outlinewidth\":0,\"ticks\":\"\"}},\"type\":\"scattercarpet\"}],\"scattergeo\":[{\"marker\":{\"colorbar\":{\"outlinewidth\":0,\"ticks\":\"\"}},\"type\":\"scattergeo\"}],\"scattergl\":[{\"marker\":{\"colorbar\":{\"outlinewidth\":0,\"ticks\":\"\"}},\"type\":\"scattergl\"}],\"scattermapbox\":[{\"marker\":{\"colorbar\":{\"outlinewidth\":0,\"ticks\":\"\"}},\"type\":\"scattermapbox\"}],\"scatterpolar\":[{\"marker\":{\"colorbar\":{\"outlinewidth\":0,\"ticks\":\"\"}},\"type\":\"scatterpolar\"}],\"scatterpolargl\":[{\"marker\":{\"colorbar\":{\"outlinewidth\":0,\"ticks\":\"\"}},\"type\":\"scatterpolargl\"}],\"scatterternary\":[{\"marker\":{\"colorbar\":{\"outlinewidth\":0,\"ticks\":\"\"}},\"type\":\"scatterternary\"}],\"surface\":[{\"colorbar\":{\"outlinewidth\":0,\"ticks\":\"\"},\"colorscale\":[[0.0,\"#0d0887\"],[0.1111111111111111,\"#46039f\"],[0.2222222222222222,\"#7201a8\"],[0.3333333333333333,\"#9c179e\"],[0.4444444444444444,\"#bd3786\"],[0.5555555555555556,\"#d8576b\"],[0.6666666666666666,\"#ed7953\"],[0.7777777777777778,\"#fb9f3a\"],[0.8888888888888888,\"#fdca26\"],[1.0,\"#f0f921\"]],\"type\":\"surface\"}],\"table\":[{\"cells\":{\"fill\":{\"color\":\"#EBF0F8\"},\"line\":{\"color\":\"white\"}},\"header\":{\"fill\":{\"color\":\"#C8D4E3\"},\"line\":{\"color\":\"white\"}},\"type\":\"table\"}]},\"layout\":{\"annotationdefaults\":{\"arrowcolor\":\"#2a3f5f\",\"arrowhead\":0,\"arrowwidth\":1},\"autotypenumbers\":\"strict\",\"coloraxis\":{\"colorbar\":{\"outlinewidth\":0,\"ticks\":\"\"}},\"colorscale\":{\"diverging\":[[0,\"#8e0152\"],[0.1,\"#c51b7d\"],[0.2,\"#de77ae\"],[0.3,\"#f1b6da\"],[0.4,\"#fde0ef\"],[0.5,\"#f7f7f7\"],[0.6,\"#e6f5d0\"],[0.7,\"#b8e186\"],[0.8,\"#7fbc41\"],[0.9,\"#4d9221\"],[1,\"#276419\"]],\"sequential\":[[0.0,\"#0d0887\"],[0.1111111111111111,\"#46039f\"],[0.2222222222222222,\"#7201a8\"],[0.3333333333333333,\"#9c179e\"],[0.4444444444444444,\"#bd3786\"],[0.5555555555555556,\"#d8576b\"],[0.6666666666666666,\"#ed7953\"],[0.7777777777777778,\"#fb9f3a\"],[0.8888888888888888,\"#fdca26\"],[1.0,\"#f0f921\"]],\"sequentialminus\":[[0.0,\"#0d0887\"],[0.1111111111111111,\"#46039f\"],[0.2222222222222222,\"#7201a8\"],[0.3333333333333333,\"#9c179e\"],[0.4444444444444444,\"#bd3786\"],[0.5555555555555556,\"#d8576b\"],[0.6666666666666666,\"#ed7953\"],[0.7777777777777778,\"#fb9f3a\"],[0.8888888888888888,\"#fdca26\"],[1.0,\"#f0f921\"]]},\"colorway\":[\"#636efa\",\"#EF553B\",\"#00cc96\",\"#ab63fa\",\"#FFA15A\",\"#19d3f3\",\"#FF6692\",\"#B6E880\",\"#FF97FF\",\"#FECB52\"],\"font\":{\"color\":\"#2a3f5f\"},\"geo\":{\"bgcolor\":\"white\",\"lakecolor\":\"white\",\"landcolor\":\"#E5ECF6\",\"showlakes\":true,\"showland\":true,\"subunitcolor\":\"white\"},\"hoverlabel\":{\"align\":\"left\"},\"hovermode\":\"closest\",\"mapbox\":{\"style\":\"light\"},\"paper_bgcolor\":\"white\",\"plot_bgcolor\":\"#E5ECF6\",\"polar\":{\"angularaxis\":{\"gridcolor\":\"white\",\"linecolor\":\"white\",\"ticks\":\"\"},\"bgcolor\":\"#E5ECF6\",\"radialaxis\":{\"gridcolor\":\"white\",\"linecolor\":\"white\",\"ticks\":\"\"}},\"scene\":{\"xaxis\":{\"backgroundcolor\":\"#E5ECF6\",\"gridcolor\":\"white\",\"gridwidth\":2,\"linecolor\":\"white\",\"showbackground\":true,\"ticks\":\"\",\"zerolinecolor\":\"white\"},\"yaxis\":{\"backgroundcolor\":\"#E5ECF6\",\"gridcolor\":\"white\",\"gridwidth\":2,\"linecolor\":\"white\",\"showbackground\":true,\"ticks\":\"\",\"zerolinecolor\":\"white\"},\"zaxis\":{\"backgroundcolor\":\"#E5ECF6\",\"gridcolor\":\"white\",\"gridwidth\":2,\"linecolor\":\"white\",\"showbackground\":true,\"ticks\":\"\",\"zerolinecolor\":\"white\"}},\"shapedefaults\":{\"line\":{\"color\":\"#2a3f5f\"}},\"ternary\":{\"aaxis\":{\"gridcolor\":\"white\",\"linecolor\":\"white\",\"ticks\":\"\"},\"baxis\":{\"gridcolor\":\"white\",\"linecolor\":\"white\",\"ticks\":\"\"},\"bgcolor\":\"#E5ECF6\",\"caxis\":{\"gridcolor\":\"white\",\"linecolor\":\"white\",\"ticks\":\"\"}},\"title\":{\"x\":0.05},\"xaxis\":{\"automargin\":true,\"gridcolor\":\"white\",\"linecolor\":\"white\",\"ticks\":\"\",\"title\":{\"standoff\":15},\"zerolinecolor\":\"white\",\"zerolinewidth\":2},\"yaxis\":{\"automargin\":true,\"gridcolor\":\"white\",\"linecolor\":\"white\",\"ticks\":\"\",\"title\":{\"standoff\":15},\"zerolinecolor\":\"white\",\"zerolinewidth\":2}}},\"legend\":{\"tracegroupgap\":0},\"margin\":{\"t\":60}},                        {\"responsive\": true}                    ).then(function(){\n",
              "                            \n",
              "var gd = document.getElementById('078de418-f1c8-4d14-9bd2-248e56ec4670');\n",
              "var x = new MutationObserver(function (mutations, observer) {{\n",
              "        var display = window.getComputedStyle(gd).display;\n",
              "        if (!display || display === 'none') {{\n",
              "            console.log([gd, 'removed!']);\n",
              "            Plotly.purge(gd);\n",
              "            observer.disconnect();\n",
              "        }}\n",
              "}});\n",
              "\n",
              "// Listen for the removal of the full notebook cells\n",
              "var notebookContainer = gd.closest('#notebook-container');\n",
              "if (notebookContainer) {{\n",
              "    x.observe(notebookContainer, {childList: true});\n",
              "}}\n",
              "\n",
              "// Listen for the clearing of the current output cell\n",
              "var outputEl = gd.closest('.output');\n",
              "if (outputEl) {{\n",
              "    x.observe(outputEl, {childList: true});\n",
              "}}\n",
              "\n",
              "                        })                };                            </script>        </div>\n",
              "</body>\n",
              "</html>"
            ]
          },
          "metadata": {}
        }
      ]
    }
  ]
}