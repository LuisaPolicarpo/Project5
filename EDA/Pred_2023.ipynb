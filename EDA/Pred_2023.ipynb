{
  "nbformat": 4,
  "nbformat_minor": 0,
  "metadata": {
    "colab": {
      "provenance": [],
      "include_colab_link": true
    },
    "kernelspec": {
      "name": "python3",
      "display_name": "Python 3"
    },
    "language_info": {
      "name": "python"
    }
  },
  "cells": [
    {
      "cell_type": "markdown",
      "metadata": {
        "id": "view-in-github",
        "colab_type": "text"
      },
      "source": [
        "<a href=\"https://colab.research.google.com/github/LuisaPolicarpo/Project5/blob/main/Pred_2023.ipynb\" target=\"_parent\"><img src=\"https://colab.research.google.com/assets/colab-badge.svg\" alt=\"Open In Colab\"/></a>"
      ]
    },
    {
      "cell_type": "markdown",
      "source": [
        "* 1 Criar df com a prediction dos dados de overnight entre 11/2022 até 12/2023, utilizando dos dados de 01/2020 a 11/2022\n",
        "* 2 Criar um test e um train set\n",
        "* 3 Verificar neste train e test, em qual dos modelos (ARIMA, SARIMA, Exponential Smoothing e Linear Regression(Trend)+Avg(Seasonality)) obtemos o menor MSE (mean square error)\n",
        "* 4 O modelo com menor MSE, deverá ser o usado para prever os dados de 2023."
      ],
      "metadata": {
        "id": "VD7v4DlTEzpn"
      }
    },
    {
      "cell_type": "code",
      "execution_count": 28,
      "metadata": {
        "id": "OXQSM-GuEoJb"
      },
      "outputs": [],
      "source": [
        "import pandas as pd\n",
        "import matplotlib.pyplot as plt"
      ]
    },
    {
      "cell_type": "code",
      "source": [
        "!pip install jupyter-dash"
      ],
      "metadata": {
        "colab": {
          "base_uri": "https://localhost:8080/"
        },
        "id": "1VgI5otYvwau",
        "outputId": "dac26222-5744-429a-93fd-6ec9707d31b6"
      },
      "execution_count": 29,
      "outputs": [
        {
          "output_type": "stream",
          "name": "stdout",
          "text": [
            "Looking in indexes: https://pypi.org/simple, https://us-python.pkg.dev/colab-wheels/public/simple/\n",
            "Requirement already satisfied: jupyter-dash in /usr/local/lib/python3.8/dist-packages (0.4.2)\n",
            "Requirement already satisfied: ipython in /usr/local/lib/python3.8/dist-packages (from jupyter-dash) (7.9.0)\n",
            "Requirement already satisfied: retrying in /usr/local/lib/python3.8/dist-packages (from jupyter-dash) (1.3.4)\n",
            "Requirement already satisfied: flask in /usr/local/lib/python3.8/dist-packages (from jupyter-dash) (1.1.4)\n",
            "Requirement already satisfied: ipykernel in /usr/local/lib/python3.8/dist-packages (from jupyter-dash) (5.3.4)\n",
            "Requirement already satisfied: nest-asyncio in /usr/local/lib/python3.8/dist-packages (from jupyter-dash) (1.5.6)\n",
            "Requirement already satisfied: dash in /usr/local/lib/python3.8/dist-packages (from jupyter-dash) (2.7.1)\n",
            "Requirement already satisfied: requests in /usr/local/lib/python3.8/dist-packages (from jupyter-dash) (2.25.1)\n",
            "Requirement already satisfied: ansi2html in /usr/local/lib/python3.8/dist-packages (from jupyter-dash) (1.8.0)\n",
            "Requirement already satisfied: dash-html-components==2.0.0 in /usr/local/lib/python3.8/dist-packages (from dash->jupyter-dash) (2.0.0)\n",
            "Requirement already satisfied: dash-table==5.0.0 in /usr/local/lib/python3.8/dist-packages (from dash->jupyter-dash) (5.0.0)\n",
            "Requirement already satisfied: plotly>=5.0.0 in /usr/local/lib/python3.8/dist-packages (from dash->jupyter-dash) (5.5.0)\n",
            "Requirement already satisfied: dash-core-components==2.0.0 in /usr/local/lib/python3.8/dist-packages (from dash->jupyter-dash) (2.0.0)\n",
            "Requirement already satisfied: Jinja2<3.0,>=2.10.1 in /usr/local/lib/python3.8/dist-packages (from flask->jupyter-dash) (2.11.3)\n",
            "Requirement already satisfied: Werkzeug<2.0,>=0.15 in /usr/local/lib/python3.8/dist-packages (from flask->jupyter-dash) (1.0.1)\n",
            "Requirement already satisfied: itsdangerous<2.0,>=0.24 in /usr/local/lib/python3.8/dist-packages (from flask->jupyter-dash) (1.1.0)\n",
            "Requirement already satisfied: click<8.0,>=5.1 in /usr/local/lib/python3.8/dist-packages (from flask->jupyter-dash) (7.1.2)\n",
            "Requirement already satisfied: tornado>=4.2 in /usr/local/lib/python3.8/dist-packages (from ipykernel->jupyter-dash) (6.0.4)\n",
            "Requirement already satisfied: traitlets>=4.1.0 in /usr/local/lib/python3.8/dist-packages (from ipykernel->jupyter-dash) (5.7.1)\n",
            "Requirement already satisfied: jupyter-client in /usr/local/lib/python3.8/dist-packages (from ipykernel->jupyter-dash) (6.1.12)\n",
            "Requirement already satisfied: pygments in /usr/local/lib/python3.8/dist-packages (from ipython->jupyter-dash) (2.6.1)\n",
            "Requirement already satisfied: jedi>=0.10 in /usr/local/lib/python3.8/dist-packages (from ipython->jupyter-dash) (0.18.2)\n",
            "Requirement already satisfied: setuptools>=18.5 in /usr/local/lib/python3.8/dist-packages (from ipython->jupyter-dash) (57.4.0)\n",
            "Requirement already satisfied: decorator in /usr/local/lib/python3.8/dist-packages (from ipython->jupyter-dash) (4.4.2)\n",
            "Requirement already satisfied: backcall in /usr/local/lib/python3.8/dist-packages (from ipython->jupyter-dash) (0.2.0)\n",
            "Requirement already satisfied: pexpect in /usr/local/lib/python3.8/dist-packages (from ipython->jupyter-dash) (4.8.0)\n",
            "Requirement already satisfied: pickleshare in /usr/local/lib/python3.8/dist-packages (from ipython->jupyter-dash) (0.7.5)\n",
            "Requirement already satisfied: prompt-toolkit<2.1.0,>=2.0.0 in /usr/local/lib/python3.8/dist-packages (from ipython->jupyter-dash) (2.0.10)\n",
            "Requirement already satisfied: certifi>=2017.4.17 in /usr/local/lib/python3.8/dist-packages (from requests->jupyter-dash) (2022.12.7)\n",
            "Requirement already satisfied: idna<3,>=2.5 in /usr/local/lib/python3.8/dist-packages (from requests->jupyter-dash) (2.10)\n",
            "Requirement already satisfied: urllib3<1.27,>=1.21.1 in /usr/local/lib/python3.8/dist-packages (from requests->jupyter-dash) (1.24.3)\n",
            "Requirement already satisfied: chardet<5,>=3.0.2 in /usr/local/lib/python3.8/dist-packages (from requests->jupyter-dash) (4.0.0)\n",
            "Requirement already satisfied: six>=1.7.0 in /usr/local/lib/python3.8/dist-packages (from retrying->jupyter-dash) (1.15.0)\n",
            "Requirement already satisfied: parso<0.9.0,>=0.8.0 in /usr/local/lib/python3.8/dist-packages (from jedi>=0.10->ipython->jupyter-dash) (0.8.3)\n",
            "Requirement already satisfied: MarkupSafe>=0.23 in /usr/local/lib/python3.8/dist-packages (from Jinja2<3.0,>=2.10.1->flask->jupyter-dash) (2.0.1)\n",
            "Requirement already satisfied: tenacity>=6.2.0 in /usr/local/lib/python3.8/dist-packages (from plotly>=5.0.0->dash->jupyter-dash) (8.1.0)\n",
            "Requirement already satisfied: wcwidth in /usr/local/lib/python3.8/dist-packages (from prompt-toolkit<2.1.0,>=2.0.0->ipython->jupyter-dash) (0.2.5)\n",
            "Requirement already satisfied: jupyter-core>=4.6.0 in /usr/local/lib/python3.8/dist-packages (from jupyter-client->ipykernel->jupyter-dash) (5.1.3)\n",
            "Requirement already satisfied: pyzmq>=13 in /usr/local/lib/python3.8/dist-packages (from jupyter-client->ipykernel->jupyter-dash) (23.2.1)\n",
            "Requirement already satisfied: python-dateutil>=2.1 in /usr/local/lib/python3.8/dist-packages (from jupyter-client->ipykernel->jupyter-dash) (2.8.2)\n",
            "Requirement already satisfied: ptyprocess>=0.5 in /usr/local/lib/python3.8/dist-packages (from pexpect->ipython->jupyter-dash) (0.7.0)\n",
            "Requirement already satisfied: platformdirs>=2.5 in /usr/local/lib/python3.8/dist-packages (from jupyter-core>=4.6.0->jupyter-client->ipykernel->jupyter-dash) (2.6.2)\n"
          ]
        }
      ]
    },
    {
      "cell_type": "code",
      "source": [
        "pip install dash-bootstrap-components"
      ],
      "metadata": {
        "colab": {
          "base_uri": "https://localhost:8080/"
        },
        "id": "sZ7llrSnv5kT",
        "outputId": "3535f34a-9e1e-406a-b1ff-6b52fa4fce0b"
      },
      "execution_count": 30,
      "outputs": [
        {
          "output_type": "stream",
          "name": "stdout",
          "text": [
            "Looking in indexes: https://pypi.org/simple, https://us-python.pkg.dev/colab-wheels/public/simple/\n",
            "Requirement already satisfied: dash-bootstrap-components in /usr/local/lib/python3.8/dist-packages (1.3.0)\n",
            "Requirement already satisfied: dash>=2.0.0 in /usr/local/lib/python3.8/dist-packages (from dash-bootstrap-components) (2.7.1)\n",
            "Requirement already satisfied: dash-core-components==2.0.0 in /usr/local/lib/python3.8/dist-packages (from dash>=2.0.0->dash-bootstrap-components) (2.0.0)\n",
            "Requirement already satisfied: dash-table==5.0.0 in /usr/local/lib/python3.8/dist-packages (from dash>=2.0.0->dash-bootstrap-components) (5.0.0)\n",
            "Requirement already satisfied: Flask>=1.0.4 in /usr/local/lib/python3.8/dist-packages (from dash>=2.0.0->dash-bootstrap-components) (1.1.4)\n",
            "Requirement already satisfied: plotly>=5.0.0 in /usr/local/lib/python3.8/dist-packages (from dash>=2.0.0->dash-bootstrap-components) (5.5.0)\n",
            "Requirement already satisfied: dash-html-components==2.0.0 in /usr/local/lib/python3.8/dist-packages (from dash>=2.0.0->dash-bootstrap-components) (2.0.0)\n",
            "Requirement already satisfied: itsdangerous<2.0,>=0.24 in /usr/local/lib/python3.8/dist-packages (from Flask>=1.0.4->dash>=2.0.0->dash-bootstrap-components) (1.1.0)\n",
            "Requirement already satisfied: click<8.0,>=5.1 in /usr/local/lib/python3.8/dist-packages (from Flask>=1.0.4->dash>=2.0.0->dash-bootstrap-components) (7.1.2)\n",
            "Requirement already satisfied: Jinja2<3.0,>=2.10.1 in /usr/local/lib/python3.8/dist-packages (from Flask>=1.0.4->dash>=2.0.0->dash-bootstrap-components) (2.11.3)\n",
            "Requirement already satisfied: Werkzeug<2.0,>=0.15 in /usr/local/lib/python3.8/dist-packages (from Flask>=1.0.4->dash>=2.0.0->dash-bootstrap-components) (1.0.1)\n",
            "Requirement already satisfied: tenacity>=6.2.0 in /usr/local/lib/python3.8/dist-packages (from plotly>=5.0.0->dash>=2.0.0->dash-bootstrap-components) (8.1.0)\n",
            "Requirement already satisfied: six in /usr/local/lib/python3.8/dist-packages (from plotly>=5.0.0->dash>=2.0.0->dash-bootstrap-components) (1.15.0)\n",
            "Requirement already satisfied: MarkupSafe>=0.23 in /usr/local/lib/python3.8/dist-packages (from Jinja2<3.0,>=2.10.1->Flask>=1.0.4->dash>=2.0.0->dash-bootstrap-components) (2.0.1)\n"
          ]
        }
      ]
    },
    {
      "cell_type": "code",
      "source": [
        "link = \"https://raw.githubusercontent.com/LuisaPolicarpo/Project5/main/Pred_2023.csv\"\n",
        "df_real_pred = pd.read_csv(\"https://raw.githubusercontent.com/LuisaPolicarpo/Project5/main/Pred_2023.csv\")"
      ],
      "metadata": {
        "id": "mOQacs5ieJdU"
      },
      "execution_count": 31,
      "outputs": []
    },
    {
      "cell_type": "code",
      "source": [
        "import plotly.express as px\n",
        "\n",
        "fig = px.line(df_real_pred, x='Date', y=['Overnight_real', 'Overnight_Pred'])\n",
        "fig.show()"
      ],
      "metadata": {
        "colab": {
          "base_uri": "https://localhost:8080/",
          "height": 542
        },
        "id": "y7J_61Et4GsO",
        "outputId": "9b6d9dd0-d406-4167-d15e-ea6ad940e976"
      },
      "execution_count": 32,
      "outputs": [
        {
          "output_type": "display_data",
          "data": {
            "text/html": [
              "<html>\n",
              "<head><meta charset=\"utf-8\" /></head>\n",
              "<body>\n",
              "    <div>            <script src=\"https://cdnjs.cloudflare.com/ajax/libs/mathjax/2.7.5/MathJax.js?config=TeX-AMS-MML_SVG\"></script><script type=\"text/javascript\">if (window.MathJax) {MathJax.Hub.Config({SVG: {font: \"STIX-Web\"}});}</script>                <script type=\"text/javascript\">window.PlotlyConfig = {MathJaxConfig: 'local'};</script>\n",
              "        <script src=\"https://cdn.plot.ly/plotly-2.8.3.min.js\"></script>                <div id=\"822af0ad-b1a7-4fc5-8591-f25a69feae07\" class=\"plotly-graph-div\" style=\"height:525px; width:100%;\"></div>            <script type=\"text/javascript\">                                    window.PLOTLYENV=window.PLOTLYENV || {};                                    if (document.getElementById(\"822af0ad-b1a7-4fc5-8591-f25a69feae07\")) {                    Plotly.newPlot(                        \"822af0ad-b1a7-4fc5-8591-f25a69feae07\",                        [{\"hovertemplate\":\"variable=Overnight_real<br>Date=%{x}<br>value=%{y}<extra></extra>\",\"legendgroup\":\"Overnight_real\",\"line\":{\"color\":\"#636efa\",\"dash\":\"solid\"},\"marker\":{\"symbol\":\"circle\"},\"mode\":\"lines\",\"name\":\"Overnight_real\",\"orientation\":\"v\",\"showlegend\":true,\"x\":[\"2017-01-01\",\"2017-02-01\",\"2017-03-01\",\"2017-04-01\",\"2017-05-01\",\"2017-06-01\",\"2017-07-01\",\"2017-08-01\",\"2017-09-01\",\"2017-10-01\",\"2017-11-01\",\"2017-12-01\",\"2018-01-01\",\"2018-02-01\",\"2018-03-01\",\"2018-04-01\",\"2018-05-01\",\"2018-06-01\",\"2018-07-01\",\"2018-08-01\",\"2018-09-01\",\"2018-10-01\",\"2018-11-01\",\"2018-12-01\",\"2019-01-01\",\"2019-02-01\",\"2019-03-01\",\"2019-04-01\",\"2019-05-01\",\"2019-06-01\",\"2019-07-01\",\"2019-08-01\",\"2019-09-01\",\"2019-10-01\",\"2019-11-01\",\"2019-12-01\",\"2020-01-01\",\"2020-02-01\",\"2020-03-01\",\"2020-04-01\",\"2020-05-01\",\"2020-06-01\",\"2020-07-01\",\"2020-08-01\",\"2020-09-01\",\"2020-10-01\",\"2020-11-01\",\"2020-12-01\",\"2021-01-01\",\"2021-02-01\",\"2021-03-01\",\"2021-04-01\",\"2021-05-01\",\"2021-06-01\",\"2021-07-01\",\"2021-08-01\",\"2021-09-01\",\"2021-10-01\",\"2021-11-01\",\"2021-12-01\",\"2022-01-01\",\"2022-02-01\",\"2022-03-01\",\"2022-04-01\",\"2022-05-01\",\"2022-06-01\",\"2022-07-01\",\"2022-08-01\",\"2022-09-01\",\"2022-10-01\",\"2022-11-01\",\"2022-12-01\",\"2023-01-01\",\"2023-02-01\",\"2023-03-01\",\"2023-04-01\",\"2023-05-01\",\"2023-06-01\",\"2023-07-01\",\"2023-08-01\",\"2023-09-01\",\"2023-10-01\",\"2023-11-01\",\"2023-12-01\"],\"xaxis\":\"x\",\"y\":[2657847.0,3081026.0,4015775.0,5706131.0,6002029.0,6716372.0,7841656.0,9021656.0,7194693.0,6071385.0,3537490.0,3119681.0,2843739.0,3332670.0,4571119.0,5374612.0,6302074.0,6743203.0,7974521.0,9292740.0,7342627.0,6250714.0,3791610.0,3256830.0,3034284.0,3365240.0,4606922.0,5981300.0,6557840.0,7177554.0,8231230.0,9633427.0,7624574.0,6358685.0,4071968.0,3515940.0,3258226.0,3817043.0,1875506.0,133212.0,261593.0,1031062.0,2631261.0,5082349.0,3534350.0,2300257.0,920058.0,953382.0,688039.0,459904.0,615727.0,921028.0,2024210.0,3401792.0,4538643.0,7507272.0,5585513.0,5468960.0,3556760.0,2564574.0,1988869.0,2920471.0,4006723.0,6006236.0,6511175.0,7167299.0,8623586.0,9935751.0,7664771.0,6769497.0,4246059.0,null,null,null,null,null,null,null,null,null,null,null,null,null],\"yaxis\":\"y\",\"type\":\"scatter\"},{\"hovertemplate\":\"variable=Overnight_Pred<br>Date=%{x}<br>value=%{y}<extra></extra>\",\"legendgroup\":\"Overnight_Pred\",\"line\":{\"color\":\"#EF553B\",\"dash\":\"solid\"},\"marker\":{\"symbol\":\"circle\"},\"mode\":\"lines\",\"name\":\"Overnight_Pred\",\"orientation\":\"v\",\"showlegend\":true,\"x\":[\"2017-01-01\",\"2017-02-01\",\"2017-03-01\",\"2017-04-01\",\"2017-05-01\",\"2017-06-01\",\"2017-07-01\",\"2017-08-01\",\"2017-09-01\",\"2017-10-01\",\"2017-11-01\",\"2017-12-01\",\"2018-01-01\",\"2018-02-01\",\"2018-03-01\",\"2018-04-01\",\"2018-05-01\",\"2018-06-01\",\"2018-07-01\",\"2018-08-01\",\"2018-09-01\",\"2018-10-01\",\"2018-11-01\",\"2018-12-01\",\"2019-01-01\",\"2019-02-01\",\"2019-03-01\",\"2019-04-01\",\"2019-05-01\",\"2019-06-01\",\"2019-07-01\",\"2019-08-01\",\"2019-09-01\",\"2019-10-01\",\"2019-11-01\",\"2019-12-01\",\"2020-01-01\",\"2020-02-01\",\"2020-03-01\",\"2020-04-01\",\"2020-05-01\",\"2020-06-01\",\"2020-07-01\",\"2020-08-01\",\"2020-09-01\",\"2020-10-01\",\"2020-11-01\",\"2020-12-01\",\"2021-01-01\",\"2021-02-01\",\"2021-03-01\",\"2021-04-01\",\"2021-05-01\",\"2021-06-01\",\"2021-07-01\",\"2021-08-01\",\"2021-09-01\",\"2021-10-01\",\"2021-11-01\",\"2021-12-01\",\"2022-01-01\",\"2022-02-01\",\"2022-03-01\",\"2022-04-01\",\"2022-05-01\",\"2022-06-01\",\"2022-07-01\",\"2022-08-01\",\"2022-09-01\",\"2022-10-01\",\"2022-11-01\",\"2022-12-01\",\"2023-01-01\",\"2023-02-01\",\"2023-03-01\",\"2023-04-01\",\"2023-05-01\",\"2023-06-01\",\"2023-07-01\",\"2023-08-01\",\"2023-09-01\",\"2023-10-01\",\"2023-11-01\",\"2023-12-01\"],\"xaxis\":\"x\",\"y\":[null,null,null,null,null,null,null,null,null,null,null,null,null,null,null,null,null,null,null,null,null,null,null,null,null,null,null,null,null,null,null,null,null,null,null,null,null,null,null,null,null,null,null,null,null,null,null,null,null,null,null,null,null,null,null,null,null,null,null,null,null,null,null,null,null,null,null,null,null,null,null,4649593.160218253,4344891.519742061,4075139.837599205,4183355.2804563474,4410057.889980156,5410244.041170633,6749726.484027777,7511682.906051585,10405560.953075394,8783856.208432538,7663919.255456347,6316348.239980157,6316345.474503966],\"yaxis\":\"y\",\"type\":\"scatter\"}],                        {\"template\":{\"data\":{\"bar\":[{\"error_x\":{\"color\":\"#2a3f5f\"},\"error_y\":{\"color\":\"#2a3f5f\"},\"marker\":{\"line\":{\"color\":\"#E5ECF6\",\"width\":0.5},\"pattern\":{\"fillmode\":\"overlay\",\"size\":10,\"solidity\":0.2}},\"type\":\"bar\"}],\"barpolar\":[{\"marker\":{\"line\":{\"color\":\"#E5ECF6\",\"width\":0.5},\"pattern\":{\"fillmode\":\"overlay\",\"size\":10,\"solidity\":0.2}},\"type\":\"barpolar\"}],\"carpet\":[{\"aaxis\":{\"endlinecolor\":\"#2a3f5f\",\"gridcolor\":\"white\",\"linecolor\":\"white\",\"minorgridcolor\":\"white\",\"startlinecolor\":\"#2a3f5f\"},\"baxis\":{\"endlinecolor\":\"#2a3f5f\",\"gridcolor\":\"white\",\"linecolor\":\"white\",\"minorgridcolor\":\"white\",\"startlinecolor\":\"#2a3f5f\"},\"type\":\"carpet\"}],\"choropleth\":[{\"colorbar\":{\"outlinewidth\":0,\"ticks\":\"\"},\"type\":\"choropleth\"}],\"contour\":[{\"colorbar\":{\"outlinewidth\":0,\"ticks\":\"\"},\"colorscale\":[[0.0,\"#0d0887\"],[0.1111111111111111,\"#46039f\"],[0.2222222222222222,\"#7201a8\"],[0.3333333333333333,\"#9c179e\"],[0.4444444444444444,\"#bd3786\"],[0.5555555555555556,\"#d8576b\"],[0.6666666666666666,\"#ed7953\"],[0.7777777777777778,\"#fb9f3a\"],[0.8888888888888888,\"#fdca26\"],[1.0,\"#f0f921\"]],\"type\":\"contour\"}],\"contourcarpet\":[{\"colorbar\":{\"outlinewidth\":0,\"ticks\":\"\"},\"type\":\"contourcarpet\"}],\"heatmap\":[{\"colorbar\":{\"outlinewidth\":0,\"ticks\":\"\"},\"colorscale\":[[0.0,\"#0d0887\"],[0.1111111111111111,\"#46039f\"],[0.2222222222222222,\"#7201a8\"],[0.3333333333333333,\"#9c179e\"],[0.4444444444444444,\"#bd3786\"],[0.5555555555555556,\"#d8576b\"],[0.6666666666666666,\"#ed7953\"],[0.7777777777777778,\"#fb9f3a\"],[0.8888888888888888,\"#fdca26\"],[1.0,\"#f0f921\"]],\"type\":\"heatmap\"}],\"heatmapgl\":[{\"colorbar\":{\"outlinewidth\":0,\"ticks\":\"\"},\"colorscale\":[[0.0,\"#0d0887\"],[0.1111111111111111,\"#46039f\"],[0.2222222222222222,\"#7201a8\"],[0.3333333333333333,\"#9c179e\"],[0.4444444444444444,\"#bd3786\"],[0.5555555555555556,\"#d8576b\"],[0.6666666666666666,\"#ed7953\"],[0.7777777777777778,\"#fb9f3a\"],[0.8888888888888888,\"#fdca26\"],[1.0,\"#f0f921\"]],\"type\":\"heatmapgl\"}],\"histogram\":[{\"marker\":{\"pattern\":{\"fillmode\":\"overlay\",\"size\":10,\"solidity\":0.2}},\"type\":\"histogram\"}],\"histogram2d\":[{\"colorbar\":{\"outlinewidth\":0,\"ticks\":\"\"},\"colorscale\":[[0.0,\"#0d0887\"],[0.1111111111111111,\"#46039f\"],[0.2222222222222222,\"#7201a8\"],[0.3333333333333333,\"#9c179e\"],[0.4444444444444444,\"#bd3786\"],[0.5555555555555556,\"#d8576b\"],[0.6666666666666666,\"#ed7953\"],[0.7777777777777778,\"#fb9f3a\"],[0.8888888888888888,\"#fdca26\"],[1.0,\"#f0f921\"]],\"type\":\"histogram2d\"}],\"histogram2dcontour\":[{\"colorbar\":{\"outlinewidth\":0,\"ticks\":\"\"},\"colorscale\":[[0.0,\"#0d0887\"],[0.1111111111111111,\"#46039f\"],[0.2222222222222222,\"#7201a8\"],[0.3333333333333333,\"#9c179e\"],[0.4444444444444444,\"#bd3786\"],[0.5555555555555556,\"#d8576b\"],[0.6666666666666666,\"#ed7953\"],[0.7777777777777778,\"#fb9f3a\"],[0.8888888888888888,\"#fdca26\"],[1.0,\"#f0f921\"]],\"type\":\"histogram2dcontour\"}],\"mesh3d\":[{\"colorbar\":{\"outlinewidth\":0,\"ticks\":\"\"},\"type\":\"mesh3d\"}],\"parcoords\":[{\"line\":{\"colorbar\":{\"outlinewidth\":0,\"ticks\":\"\"}},\"type\":\"parcoords\"}],\"pie\":[{\"automargin\":true,\"type\":\"pie\"}],\"scatter\":[{\"marker\":{\"colorbar\":{\"outlinewidth\":0,\"ticks\":\"\"}},\"type\":\"scatter\"}],\"scatter3d\":[{\"line\":{\"colorbar\":{\"outlinewidth\":0,\"ticks\":\"\"}},\"marker\":{\"colorbar\":{\"outlinewidth\":0,\"ticks\":\"\"}},\"type\":\"scatter3d\"}],\"scattercarpet\":[{\"marker\":{\"colorbar\":{\"outlinewidth\":0,\"ticks\":\"\"}},\"type\":\"scattercarpet\"}],\"scattergeo\":[{\"marker\":{\"colorbar\":{\"outlinewidth\":0,\"ticks\":\"\"}},\"type\":\"scattergeo\"}],\"scattergl\":[{\"marker\":{\"colorbar\":{\"outlinewidth\":0,\"ticks\":\"\"}},\"type\":\"scattergl\"}],\"scattermapbox\":[{\"marker\":{\"colorbar\":{\"outlinewidth\":0,\"ticks\":\"\"}},\"type\":\"scattermapbox\"}],\"scatterpolar\":[{\"marker\":{\"colorbar\":{\"outlinewidth\":0,\"ticks\":\"\"}},\"type\":\"scatterpolar\"}],\"scatterpolargl\":[{\"marker\":{\"colorbar\":{\"outlinewidth\":0,\"ticks\":\"\"}},\"type\":\"scatterpolargl\"}],\"scatterternary\":[{\"marker\":{\"colorbar\":{\"outlinewidth\":0,\"ticks\":\"\"}},\"type\":\"scatterternary\"}],\"surface\":[{\"colorbar\":{\"outlinewidth\":0,\"ticks\":\"\"},\"colorscale\":[[0.0,\"#0d0887\"],[0.1111111111111111,\"#46039f\"],[0.2222222222222222,\"#7201a8\"],[0.3333333333333333,\"#9c179e\"],[0.4444444444444444,\"#bd3786\"],[0.5555555555555556,\"#d8576b\"],[0.6666666666666666,\"#ed7953\"],[0.7777777777777778,\"#fb9f3a\"],[0.8888888888888888,\"#fdca26\"],[1.0,\"#f0f921\"]],\"type\":\"surface\"}],\"table\":[{\"cells\":{\"fill\":{\"color\":\"#EBF0F8\"},\"line\":{\"color\":\"white\"}},\"header\":{\"fill\":{\"color\":\"#C8D4E3\"},\"line\":{\"color\":\"white\"}},\"type\":\"table\"}]},\"layout\":{\"annotationdefaults\":{\"arrowcolor\":\"#2a3f5f\",\"arrowhead\":0,\"arrowwidth\":1},\"autotypenumbers\":\"strict\",\"coloraxis\":{\"colorbar\":{\"outlinewidth\":0,\"ticks\":\"\"}},\"colorscale\":{\"diverging\":[[0,\"#8e0152\"],[0.1,\"#c51b7d\"],[0.2,\"#de77ae\"],[0.3,\"#f1b6da\"],[0.4,\"#fde0ef\"],[0.5,\"#f7f7f7\"],[0.6,\"#e6f5d0\"],[0.7,\"#b8e186\"],[0.8,\"#7fbc41\"],[0.9,\"#4d9221\"],[1,\"#276419\"]],\"sequential\":[[0.0,\"#0d0887\"],[0.1111111111111111,\"#46039f\"],[0.2222222222222222,\"#7201a8\"],[0.3333333333333333,\"#9c179e\"],[0.4444444444444444,\"#bd3786\"],[0.5555555555555556,\"#d8576b\"],[0.6666666666666666,\"#ed7953\"],[0.7777777777777778,\"#fb9f3a\"],[0.8888888888888888,\"#fdca26\"],[1.0,\"#f0f921\"]],\"sequentialminus\":[[0.0,\"#0d0887\"],[0.1111111111111111,\"#46039f\"],[0.2222222222222222,\"#7201a8\"],[0.3333333333333333,\"#9c179e\"],[0.4444444444444444,\"#bd3786\"],[0.5555555555555556,\"#d8576b\"],[0.6666666666666666,\"#ed7953\"],[0.7777777777777778,\"#fb9f3a\"],[0.8888888888888888,\"#fdca26\"],[1.0,\"#f0f921\"]]},\"colorway\":[\"#636efa\",\"#EF553B\",\"#00cc96\",\"#ab63fa\",\"#FFA15A\",\"#19d3f3\",\"#FF6692\",\"#B6E880\",\"#FF97FF\",\"#FECB52\"],\"font\":{\"color\":\"#2a3f5f\"},\"geo\":{\"bgcolor\":\"white\",\"lakecolor\":\"white\",\"landcolor\":\"#E5ECF6\",\"showlakes\":true,\"showland\":true,\"subunitcolor\":\"white\"},\"hoverlabel\":{\"align\":\"left\"},\"hovermode\":\"closest\",\"mapbox\":{\"style\":\"light\"},\"paper_bgcolor\":\"white\",\"plot_bgcolor\":\"#E5ECF6\",\"polar\":{\"angularaxis\":{\"gridcolor\":\"white\",\"linecolor\":\"white\",\"ticks\":\"\"},\"bgcolor\":\"#E5ECF6\",\"radialaxis\":{\"gridcolor\":\"white\",\"linecolor\":\"white\",\"ticks\":\"\"}},\"scene\":{\"xaxis\":{\"backgroundcolor\":\"#E5ECF6\",\"gridcolor\":\"white\",\"gridwidth\":2,\"linecolor\":\"white\",\"showbackground\":true,\"ticks\":\"\",\"zerolinecolor\":\"white\"},\"yaxis\":{\"backgroundcolor\":\"#E5ECF6\",\"gridcolor\":\"white\",\"gridwidth\":2,\"linecolor\":\"white\",\"showbackground\":true,\"ticks\":\"\",\"zerolinecolor\":\"white\"},\"zaxis\":{\"backgroundcolor\":\"#E5ECF6\",\"gridcolor\":\"white\",\"gridwidth\":2,\"linecolor\":\"white\",\"showbackground\":true,\"ticks\":\"\",\"zerolinecolor\":\"white\"}},\"shapedefaults\":{\"line\":{\"color\":\"#2a3f5f\"}},\"ternary\":{\"aaxis\":{\"gridcolor\":\"white\",\"linecolor\":\"white\",\"ticks\":\"\"},\"baxis\":{\"gridcolor\":\"white\",\"linecolor\":\"white\",\"ticks\":\"\"},\"bgcolor\":\"#E5ECF6\",\"caxis\":{\"gridcolor\":\"white\",\"linecolor\":\"white\",\"ticks\":\"\"}},\"title\":{\"x\":0.05},\"xaxis\":{\"automargin\":true,\"gridcolor\":\"white\",\"linecolor\":\"white\",\"ticks\":\"\",\"title\":{\"standoff\":15},\"zerolinecolor\":\"white\",\"zerolinewidth\":2},\"yaxis\":{\"automargin\":true,\"gridcolor\":\"white\",\"linecolor\":\"white\",\"ticks\":\"\",\"title\":{\"standoff\":15},\"zerolinecolor\":\"white\",\"zerolinewidth\":2}}},\"xaxis\":{\"anchor\":\"y\",\"domain\":[0.0,1.0],\"title\":{\"text\":\"Date\"}},\"yaxis\":{\"anchor\":\"x\",\"domain\":[0.0,1.0],\"title\":{\"text\":\"value\"}},\"legend\":{\"title\":{\"text\":\"variable\"},\"tracegroupgap\":0},\"margin\":{\"t\":60}},                        {\"responsive\": true}                    ).then(function(){\n",
              "                            \n",
              "var gd = document.getElementById('822af0ad-b1a7-4fc5-8591-f25a69feae07');\n",
              "var x = new MutationObserver(function (mutations, observer) {{\n",
              "        var display = window.getComputedStyle(gd).display;\n",
              "        if (!display || display === 'none') {{\n",
              "            console.log([gd, 'removed!']);\n",
              "            Plotly.purge(gd);\n",
              "            observer.disconnect();\n",
              "        }}\n",
              "}});\n",
              "\n",
              "// Listen for the removal of the full notebook cells\n",
              "var notebookContainer = gd.closest('#notebook-container');\n",
              "if (notebookContainer) {{\n",
              "    x.observe(notebookContainer, {childList: true});\n",
              "}}\n",
              "\n",
              "// Listen for the clearing of the current output cell\n",
              "var outputEl = gd.closest('.output');\n",
              "if (outputEl) {{\n",
              "    x.observe(outputEl, {childList: true});\n",
              "}}\n",
              "\n",
              "                        })                };                            </script>        </div>\n",
              "</body>\n",
              "</html>"
            ]
          },
          "metadata": {}
        }
      ]
    },
    {
      "cell_type": "code",
      "source": [
        "import plotly.express as px\n",
        "from jupyter_dash import JupyterDash\n",
        "import dash_core_components as dcc\n",
        "import dash_html_components as html\n",
        "from dash.dependencies import Input, Output\n",
        "import dash_bootstrap_components as dbc\n",
        "\n",
        "\n",
        "import pandas as pd\n",
        "import matplotlib.pyplot as plt\n",
        "from statsmodels.tsa.arima.model import ARIMA\n",
        "from statsmodels.tsa.seasonal import seasonal_decompose\n",
        "from statsmodels.tsa.stattools import adfuller\n",
        "from pandas import Series, DataFrame\n",
        "from statsmodels.tsa.stattools import kpss\n",
        "import numpy as np\n",
        "import pandas as pd\n",
        "import matplotlib.pyplot as plt\n",
        "from statsmodels.tsa.api import ExponentialSmoothing, SimpleExpSmoothing, Holt\n",
        "import statsmodels.api\n",
        "import datetime\n",
        "from datetime import datetime\n",
        "import plotly.express as px\n",
        "import plotly.graph_objects as go\n",
        "\n",
        "\n",
        "from PIL import Image\n",
        "import base64"
      ],
      "metadata": {
        "id": "lbr0a6-bvLvw"
      },
      "execution_count": 33,
      "outputs": []
    },
    {
      "cell_type": "code",
      "source": [
        "# app = JupyterDash(__name__)\n",
        "\n",
        "# df_real_pred = pd.read_csv(\"https://raw.githubusercontent.com/LuisaPolicarpo/Project5/main/Pred_2023.csv\")\n",
        "\n",
        "# def prevision_value(df = df_real_pred):\n",
        "#   return px.line(df, x='Date', y=['Overnight_real', 'Overnight_Pred'])\n",
        "    \n",
        "# app.layout = html.Div([\n",
        "#     dcc.Graph(figure=prevision_value())\n",
        "# ])\n",
        "\n",
        "# if __name__ == '__main__':\n",
        "#     app.run_server(debug = True)\n"
      ],
      "metadata": {
        "id": "s3wIZkn_wBjr"
      },
      "execution_count": 34,
      "outputs": []
    },
    {
      "cell_type": "code",
      "source": [
        "# # app = JupyterDash(__name__)\n",
        "\n",
        "# df_real_pred = pd.read_csv(\"https://raw.githubusercontent.com/LuisaPolicarpo/Project5/main/Pred_2023.csv\")\n",
        "# df_date = pd.read_csv(\"https://raw.githubusercontent.com/LuisaPolicarpo/Project5/main/RealvsPred_Covid.csv\")\n",
        "\n",
        "\n",
        "# def prevision_value(df = df_real_pred):\n",
        "#   return px.line(df, x='Date', y=['Overnight_real', 'Overnight_Pred'], color_discrete_sequence=[\"#008B45\", \"#71C671\"])\n",
        "\n",
        "# def overnight(df2 = df_date):\n",
        "#   return px.line(df2, x='Date', y=['Overnight_Real', 'Overnight_Pred'], color_discrete_sequence=[\"#008B45\", \"#71C671\"])\n",
        "\n",
        "# app.layout = html.Div([\n",
        "#     dcc.Graph(figure=overnight()),\n",
        "#               html.Div([\n",
        "#     dcc.Graph(figure=prevision_value())\n",
        "# ])])\n",
        "\n",
        "# if __name__ == '__main__':\n",
        "#     app.run_server(debug = True)"
      ],
      "metadata": {
        "id": "TwVM6vPt8_4z",
        "outputId": "838178e9-7d40-4045-98b5-05b4ddeb2c58",
        "colab": {
          "base_uri": "https://localhost:8080/",
          "height": 52
        }
      },
      "execution_count": 49,
      "outputs": [
        {
          "output_type": "stream",
          "name": "stdout",
          "text": [
            "Dash app running on:\n"
          ]
        },
        {
          "output_type": "display_data",
          "data": {
            "text/plain": [
              "<IPython.core.display.Javascript object>"
            ],
            "application/javascript": [
              "(async (port, path, text, element) => {\n",
              "    if (!google.colab.kernel.accessAllowed) {\n",
              "      return;\n",
              "    }\n",
              "    element.appendChild(document.createTextNode(''));\n",
              "    const url = await google.colab.kernel.proxyPort(port);\n",
              "    const anchor = document.createElement('a');\n",
              "    anchor.href = new URL(path, url).toString();\n",
              "    anchor.target = '_blank';\n",
              "    anchor.setAttribute('data-href', url + path);\n",
              "    anchor.textContent = text;\n",
              "    element.appendChild(anchor);\n",
              "  })(8050, \"/\", \"http://127.0.0.1:8050/\", window.element)"
            ]
          },
          "metadata": {}
        }
      ]
    },
    {
      "cell_type": "code",
      "source": [
        "# app = JupyterDash(__name__)\n",
        "\n",
        "# df_date = pd.read_csv(\"https://raw.githubusercontent.com/LuisaPolicarpo/Project5/main/RealvsPred_Covid.csv\")\n",
        "\n",
        "# def overnight(df = df_date):\n",
        "#   return px.line(df, x='Date', y=['Overnight_Real', 'Overnight_Pred'])\n",
        "    \n",
        "# app.layout = html.Div([\n",
        "#     dcc.Graph(figure=overnight())\n",
        "# ])\n",
        "\n",
        "# if __name__ == '__main__':\n",
        "#     app.run_server(debug = True)"
      ],
      "metadata": {
        "id": "GBWMhG4q31mK"
      },
      "execution_count": 35,
      "outputs": []
    },
    {
      "cell_type": "code",
      "source": [],
      "metadata": {
        "id": "zSEsORsl-Ytx"
      },
      "execution_count": null,
      "outputs": []
    },
    {
      "cell_type": "code",
      "source": [
        "# import plotly.graph_objects as go\n",
        "\n",
        "# app = JupyterDash(external_stylesheets=[dbc.themes.BOOTSTRAP])\n",
        "\n",
        "# df_real_pred = pd.read_csv(\"https://raw.githubusercontent.com/LuisaPolicarpo/Project5/main/Pred_2023.csv\")\n",
        "# df_date = pd.read_csv(\"https://raw.githubusercontent.com/LuisaPolicarpo/Project5/main/RealvsPred_Covid.csv\")\n",
        "\n",
        "\n",
        "# def prevision_value(df = df_real_pred):\n",
        "#   return px.line(df, x='Date', y=['Overnight_real', 'Overnight_Pred'], color_discrete_sequence=[\"#008B45\", \"#71C671\"])\n",
        "\n",
        "# def overnight(df2 = df_date):\n",
        "#   return px.line(df2, x='Date', y=['Overnight_Real', 'Overnight_Pred'], color_discrete_sequence=[\"#008B45\", \"#71C671\"])\n",
        "\n",
        "# def make_graph():\n",
        "#     fig = go.Figure()\n",
        "#     # app.layout = html.Div([\n",
        "#   # Create scatter trace of text labels\n",
        "#     fig.add_trace(go.Scatter(\n",
        "#         x=[0.50, 3.5, 2, 0.50, 3.5],\n",
        "#         y=[3.5, 3.5, 3.9, 2.75, 2.75],\n",
        "#         text=[\"25 798 299\",\n",
        "#             \"65 840 437\",\n",
        "#             \"+ 155%\",\"2020\",\"2022\"],\n",
        "#         mode=\"text\",\n",
        "#     )),\n",
        "\n",
        "\n",
        "#     fig.update_xaxes(\n",
        "#         showticklabels=False,\n",
        "#         showgrid=False,\n",
        "#         zeroline=False,\n",
        "#     ),\n",
        "\n",
        "#     fig.update_yaxes(\n",
        "#         showticklabels=False,\n",
        "#         showgrid=False,\n",
        "#         zeroline=False,\n",
        "#     ),\n",
        "\n",
        "#     fig.add_shape(type=\"circle\",\n",
        "#         xref=\"x\", yref=\"y\",\n",
        "#         x0=0, y0=3, x1=1, y1=4,\n",
        "#         line_color=\"#008B45\",\n",
        "      \n",
        "#     ),\n",
        "\n",
        "\n",
        "\n",
        "#     fig.add_annotation(\n",
        "#       x=2.75, \n",
        "#       y=3.5,  \n",
        "#       ax=1.25,  \n",
        "#       ay=3.5,  \n",
        "#       xref='x',\n",
        "#       yref='y',\n",
        "#       axref='x',\n",
        "#       ayref='y',\n",
        "#       text='',  \n",
        "#       showarrow=True,\n",
        "#       arrowhead=3,\n",
        "#       arrowsize=1,\n",
        "#       arrowwidth=3,\n",
        "#       arrowcolor='#008B45'\n",
        "#     ),\n",
        "\n",
        "\n",
        "#     fig.add_shape(type=\"circle\",\n",
        "#         xref=\"x\", yref=\"y\",\n",
        "#         x0=3, y0=3, x1=4, y1=4,\n",
        "#         line_color=\"#008B45\",\n",
        "#     ),\n",
        "\n",
        "#     fig.update_layout(\n",
        "#       margin=dict(l=20, r=20, b=100),\n",
        "#       height=300, width=500,\n",
        "#       plot_bgcolor=\"white\"\n",
        "# )\n",
        "\n",
        "#     return fig\n",
        "\n",
        "# def make_graph_2():\n",
        "#     fig2 = go.Figure()\n",
        "#     # app.layout = html.Div([\n",
        "#   # Create scatter trace of text labels\n",
        "#     fig2.add_trace(go.Scatter(\n",
        "#         x=[0.50, 3.5, 2, 0.50, 3.5],\n",
        "#         y=[3.5, 3.5, 3.9,2.5, 2.5],\n",
        "#         text=[\"64 965 741\",\n",
        "#           \"70 158 964\",\n",
        "#           \"+ 7.9%\",\"2017\",\"2019\"],\n",
        "#         mode=\"text\",\n",
        "#     )),\n",
        "\n",
        "\n",
        "#     fig2.update_xaxes(\n",
        "#         showticklabels=False,\n",
        "#         showgrid=False,\n",
        "#         zeroline=False,\n",
        "#     ),\n",
        "\n",
        "#     fig2.update_yaxes(\n",
        "#         showticklabels=False,\n",
        "#         showgrid=False,\n",
        "#         zeroline=False,\n",
        "#     ),\n",
        "\n",
        "#     fig2.add_shape(type=\"circle\",\n",
        "#         xref=\"x\", yref=\"y\",\n",
        "#         x0=0, y0=3, x1=1, y1=4,\n",
        "#         line_color=\"#008B45\",\n",
        "      \n",
        "#     ),\n",
        "\n",
        "\n",
        "\n",
        "#     fig2.add_annotation(\n",
        "#       x=2.75, \n",
        "#       y=3.5,  \n",
        "#       ax=1.25,  \n",
        "#       ay=3.5,  \n",
        "#       xref='x',\n",
        "#       yref='y',\n",
        "#       axref='x',\n",
        "#       ayref='y',\n",
        "#       text='',  \n",
        "#       showarrow=True,\n",
        "#       arrowhead=3,\n",
        "#       arrowsize=1,\n",
        "#       arrowwidth=3,\n",
        "#       arrowcolor='#008B45'\n",
        "#     ),\n",
        "\n",
        "\n",
        "#     fig2.add_shape(type=\"circle\",\n",
        "#         xref=\"x\", yref=\"y\",\n",
        "#         x0=3, y0=3, x1=4, y1=4,\n",
        "#         line_color=\"#008B45\",\n",
        "#     ),\n",
        "\n",
        "#     fig2.update_layout(\n",
        "#     margin=dict(l=20, r=20, b=100),\n",
        "#     height=300, width=500,\n",
        "#     plot_bgcolor=\"white\"\n",
        "# )\n",
        "\n",
        "#     return fig2\n",
        "\n",
        "# app.layout = html.Div(children=[\n",
        "#       dbc.Row([\n",
        "#             html.H1('Overnights', style={'textAlign':'center', \"padding\": \"2rem 1rem\"}\n",
        "#                         ), \n",
        "#           dbc.Col([\n",
        "#             dcc.Graph(figure=make_graph_2())]),\n",
        "#             # dcc.Graph(figure=prevision_value()),\n",
        "#           dbc.Col([\n",
        "#             dcc.Graph(figure=make_graph())]),\n",
        "#           html.Hr(),\n",
        "#           dbc.Row([html.H1('Forescast for 2023',\n",
        "#                         style={'textAlign':'center', \"padding\": \"2rem 1rem\"}\n",
        "#                         ),\n",
        "#                     ],),\n",
        "#     dbc.Row([dcc.Graph(figure=prevision_value()),]),\n",
        "#     dbc.Row([html.H1('What if Covid-19 never happened?',\n",
        "#                         style={'textAlign':'center', \"padding\": \"2rem 1rem\"}\n",
        "#                         ),\n",
        "#                     ],),\n",
        "#     dbc.Row([dcc.Graph(figure=overnight()),]),\n",
        "            \n",
        "# ])])\n",
        "\n",
        "\n",
        "# if __name__ == '__main__':\n",
        "#     app.run_server(debug = True)"
      ],
      "metadata": {
        "colab": {
          "base_uri": "https://localhost:8080/",
          "height": 52
        },
        "id": "iGGH_2Ec44I5",
        "outputId": "ee308927-867a-4718-9077-fce6de512b9d"
      },
      "execution_count": 97,
      "outputs": [
        {
          "output_type": "stream",
          "name": "stdout",
          "text": [
            "Dash app running on:\n"
          ]
        },
        {
          "output_type": "display_data",
          "data": {
            "text/plain": [
              "<IPython.core.display.Javascript object>"
            ],
            "application/javascript": [
              "(async (port, path, text, element) => {\n",
              "    if (!google.colab.kernel.accessAllowed) {\n",
              "      return;\n",
              "    }\n",
              "    element.appendChild(document.createTextNode(''));\n",
              "    const url = await google.colab.kernel.proxyPort(port);\n",
              "    const anchor = document.createElement('a');\n",
              "    anchor.href = new URL(path, url).toString();\n",
              "    anchor.target = '_blank';\n",
              "    anchor.setAttribute('data-href', url + path);\n",
              "    anchor.textContent = text;\n",
              "    element.appendChild(anchor);\n",
              "  })(8050, \"/\", \"http://127.0.0.1:8050/\", window.element)"
            ]
          },
          "metadata": {}
        }
      ]
    },
    {
      "cell_type": "code",
      "source": [
        "# import plotly.graph_objects as go\n",
        "\n",
        "# app = JupyterDash(__name__)\n",
        "# def make_graph():\n",
        "#     fig = go.Figure()\n",
        "#     # app.layout = html.Div([\n",
        "#   # Create scatter trace of text labels\n",
        "#     fig.add_trace(go.Scatter(\n",
        "#         x=[0.50, 3.5, 2, 0.50, 3.5],\n",
        "#         y=[3.5, 3.5, 3.9,2.5, 2.5],\n",
        "#         text=[\"64 965 741\",\n",
        "#           \"70 158 964\",\n",
        "#           \"+ 7.9%\",\"2017\",\"2019\"],\n",
        "#         mode=\"text\",\n",
        "#     )),\n",
        "\n",
        "\n",
        "#     fig.update_xaxes(\n",
        "#         showticklabels=False,\n",
        "#         showgrid=False,\n",
        "#         zeroline=False,\n",
        "#     ),\n",
        "\n",
        "#     fig.update_yaxes(\n",
        "#         showticklabels=False,\n",
        "#         showgrid=False,\n",
        "#         zeroline=False,\n",
        "#     ),\n",
        "\n",
        "#     fig.add_shape(type=\"circle\",\n",
        "#         xref=\"x\", yref=\"y\",\n",
        "#         x0=0, y0=3, x1=1, y1=4,\n",
        "#         line_color=\"black\",\n",
        "      \n",
        "#     ),\n",
        "\n",
        "\n",
        "\n",
        "#     fig.add_annotation(\n",
        "#       x=2.75, \n",
        "#       y=3.5,  \n",
        "#       ax=1.25,  \n",
        "#       ay=3.5,  \n",
        "#       xref='x',\n",
        "#       yref='y',\n",
        "#       axref='x',\n",
        "#       ayref='y',\n",
        "#       text='',  \n",
        "#       showarrow=True,\n",
        "#       arrowhead=3,\n",
        "#       arrowsize=1,\n",
        "#       arrowwidth=3,\n",
        "#       arrowcolor='black'\n",
        "#     ),\n",
        "\n",
        "\n",
        "#     fig.add_shape(type=\"circle\",\n",
        "#         xref=\"x\", yref=\"y\",\n",
        "#         x0=3, y0=3, x1=4, y1=4,\n",
        "#         line_color=\"black\",\n",
        "#     ),\n",
        "\n",
        "#     fig.update_layout(\n",
        "#     margin=dict(l=20, r=20, b=100),\n",
        "#     height=300, width=500,\n",
        "#     plot_bgcolor=\"white\"\n",
        "# )\n",
        "\n",
        "# #     return fig\n",
        "\n",
        "# app.layout = html.Div([\n",
        "#     dcc.Graph(figure=make_graph())\n",
        "# ])\n",
        "\n",
        "# if __name__ == '__main__':\n",
        "#     app.run_server(debug = True)"
      ],
      "metadata": {
        "id": "hsk4Ud5T5IAU"
      },
      "execution_count": 37,
      "outputs": []
    },
    {
      "cell_type": "code",
      "source": [
        "# import dash_bootstrap_components as dbc\n",
        "# from dash import html\n",
        "\n",
        "# app = JupyterDash(external_stylesheets=[dbc.themes.MINTY])\n",
        "\n",
        "# # def display_cards(): \n",
        "# first_card = dbc.Card(\n",
        "#         dbc.CardBody(\n",
        "#             [\n",
        "#                  html.H5(\"2017\", className=\"card-title\"),\n",
        "#                  html.P(\"2.66\"),\n",
        "#                     # dbc.Button(\"Go somewhere\", color=\"primary\"),\n",
        "#              ]\n",
        "#           )\n",
        "#        )\n",
        "\n",
        "\n",
        "# second_card = dbc.Card(\n",
        "#             dbc.CardBody(\n",
        "#                 [\n",
        "#                     html.H5(\"2022\", className=\"card-title\"),\n",
        "#                     html.P(\"2.58\"),\n",
        "#                 ]\n",
        "#             )\n",
        "#         )\n",
        "\n",
        "\n",
        "# # cards = dbc.Row(\n",
        "# #             [\n",
        "# #                 dbc.Col(first_card, width=3),\n",
        "# #                 dbc.Col(second_card, width=3),\n",
        "# #             ]\n",
        "#         # ),\n",
        "\n",
        "#     # return cards\n",
        "\n",
        "# app.layout = html.Div([\n",
        "#         dbc.Row(\n",
        "#             [\n",
        "#                 dbc.Col(first_card, width=3),\n",
        "#                 dbc.Col(second_card, width=3),\n",
        "#             ]\n",
        "#         )\n",
        "#     # dcc.Graph(figure=display_cards())\n",
        "# ])\n",
        "\n",
        "# if __name__ == '__main__':\n",
        "#     app.run_server(debug = True)"
      ],
      "metadata": {
        "colab": {
          "base_uri": "https://localhost:8080/",
          "height": 52
        },
        "id": "NrHPJ2lj5iL4",
        "outputId": "789b5f4d-08fa-4ed9-8c27-0b6b1a623bcc"
      },
      "execution_count": 128,
      "outputs": [
        {
          "output_type": "stream",
          "name": "stdout",
          "text": [
            "Dash app running on:\n"
          ]
        },
        {
          "output_type": "display_data",
          "data": {
            "text/plain": [
              "<IPython.core.display.Javascript object>"
            ],
            "application/javascript": [
              "(async (port, path, text, element) => {\n",
              "    if (!google.colab.kernel.accessAllowed) {\n",
              "      return;\n",
              "    }\n",
              "    element.appendChild(document.createTextNode(''));\n",
              "    const url = await google.colab.kernel.proxyPort(port);\n",
              "    const anchor = document.createElement('a');\n",
              "    anchor.href = new URL(path, url).toString();\n",
              "    anchor.target = '_blank';\n",
              "    anchor.setAttribute('data-href', url + path);\n",
              "    anchor.textContent = text;\n",
              "    element.appendChild(anchor);\n",
              "  })(8050, \"/\", \"http://127.0.0.1:8050/\", window.element)"
            ]
          },
          "metadata": {}
        }
      ]
    },
    {
      "cell_type": "code",
      "source": [
        "import dash_bootstrap_components as dbc\n",
        "from dash import html\n",
        "\n",
        "app = JupyterDash(external_stylesheets=[dbc.themes.MINTY])\n",
        "\n",
        "# def display_cards():\n",
        "\n",
        "card_content = [\n",
        "    dbc.CardHeader(\"2017\"),\n",
        "    dbc.CardBody(\n",
        "        [\n",
        "            html.H5(\"2.66 nights\", className=\"card-title\"),\n",
        "        ]\n",
        "    ),\n",
        "]\n",
        "\n",
        "\n",
        "card_content2 = [\n",
        "    dbc.CardHeader(\"2022\"),\n",
        "    dbc.CardBody(\n",
        "        [\n",
        "            html.H5(\"2.58 nights\", className=\"card-title\"),\n",
        "\n",
        "        ]\n",
        "    ),\n",
        "]\n",
        "\n",
        "app.layout  = html.Div(\n",
        "    [\n",
        "        dbc.Row(\n",
        "            [\n",
        "                dbc.Col(dbc.Card(card_content, color=\"success\",  outline=True, style={'textAlign':'center','width':'10rem', \"height\": \"10rem\"})),\n",
        "                dbc.Col(dbc.Card(card_content2, color=\"success\", outline=True, style={'textAlign':'center', 'width':'10rem', \"height\": \"10em\"})\n",
        "                ),\n",
        "            ],\n",
        "            className=\"mb-4\",\n",
        "        ),\n",
        "    ]\n",
        ")\n",
        "\n",
        "\n",
        "if __name__ == '__main__':\n",
        "    app.run_server(debug = True)\n"
      ],
      "metadata": {
        "id": "DYk-oxgeI75r",
        "outputId": "82c3befd-28eb-49b5-89b4-ce48eb9fa412",
        "colab": {
          "base_uri": "https://localhost:8080/",
          "height": 52
        }
      },
      "execution_count": 156,
      "outputs": [
        {
          "output_type": "stream",
          "name": "stdout",
          "text": [
            "Dash app running on:\n"
          ]
        },
        {
          "output_type": "display_data",
          "data": {
            "text/plain": [
              "<IPython.core.display.Javascript object>"
            ],
            "application/javascript": [
              "(async (port, path, text, element) => {\n",
              "    if (!google.colab.kernel.accessAllowed) {\n",
              "      return;\n",
              "    }\n",
              "    element.appendChild(document.createTextNode(''));\n",
              "    const url = await google.colab.kernel.proxyPort(port);\n",
              "    const anchor = document.createElement('a');\n",
              "    anchor.href = new URL(path, url).toString();\n",
              "    anchor.target = '_blank';\n",
              "    anchor.setAttribute('data-href', url + path);\n",
              "    anchor.textContent = text;\n",
              "    element.appendChild(anchor);\n",
              "  })(8050, \"/\", \"http://127.0.0.1:8050/\", window.element)"
            ]
          },
          "metadata": {}
        }
      ]
    },
    {
      "cell_type": "code",
      "source": [],
      "metadata": {
        "id": "rJ97j2kjH2Eh"
      },
      "execution_count": null,
      "outputs": []
    }
  ]
}